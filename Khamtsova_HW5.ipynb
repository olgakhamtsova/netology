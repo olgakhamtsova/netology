{
 "cells": [
  {
   "cell_type": "markdown",
   "metadata": {},
   "source": [
    "# Домашнее задание №5"
   ]
  },
  {
   "cell_type": "markdown",
   "metadata": {},
   "source": [
    "###### Задание 1"
   ]
  },
  {
   "cell_type": "code",
   "execution_count": 2,
   "metadata": {},
   "outputs": [],
   "source": [
    "import numpy as np"
   ]
  },
  {
   "cell_type": "code",
   "execution_count": 25,
   "metadata": {},
   "outputs": [
    {
     "data": {
      "text/plain": [
       "array([9, 8, 7, 6, 5, 4, 3, 2, 1, 0])"
      ]
     },
     "execution_count": 25,
     "metadata": {},
     "output_type": "execute_result"
    }
   ],
   "source": [
    "def array(N):\n",
    "    array1 = np.arange(0, N)\n",
    "    array2 = -np.sort(-array1)\n",
    "    return array2\n",
    "\n",
    "array(10)"
   ]
  },
  {
   "cell_type": "markdown",
   "metadata": {},
   "source": [
    "###### Задание 2"
   ]
  },
  {
   "cell_type": "code",
   "execution_count": 81,
   "metadata": {},
   "outputs": [
    {
     "data": {
      "text/plain": [
       "array([[9, 0, 0, 0, 0, 0, 0, 0, 0, 0],\n",
       "       [0, 8, 0, 0, 0, 0, 0, 0, 0, 0],\n",
       "       [0, 0, 7, 0, 0, 0, 0, 0, 0, 0],\n",
       "       [0, 0, 0, 6, 0, 0, 0, 0, 0, 0],\n",
       "       [0, 0, 0, 0, 5, 0, 0, 0, 0, 0],\n",
       "       [0, 0, 0, 0, 0, 4, 0, 0, 0, 0],\n",
       "       [0, 0, 0, 0, 0, 0, 3, 0, 0, 0],\n",
       "       [0, 0, 0, 0, 0, 0, 0, 2, 0, 0],\n",
       "       [0, 0, 0, 0, 0, 0, 0, 0, 1, 0],\n",
       "       [0, 0, 0, 0, 0, 0, 0, 0, 0, 0]])"
      ]
     },
     "execution_count": 81,
     "metadata": {},
     "output_type": "execute_result"
    }
   ],
   "source": [
    "def array(N):\n",
    "    array1 = np.diag(np.arange(N), k=0)\n",
    "    array2 = -np.sort(-array1.diagonal())\n",
    "    for i in range(0, len(array1)):\n",
    "        array1[i][i] = array2[i]\n",
    "    return array1\n",
    "\n",
    "array(10)"
   ]
  },
  {
   "cell_type": "markdown",
   "metadata": {},
   "source": [
    "###### Задание 3"
   ]
  },
  {
   "cell_type": "code",
   "execution_count": 97,
   "metadata": {},
   "outputs": [],
   "source": [
    "import pandas as pd"
   ]
  },
  {
   "cell_type": "code",
   "execution_count": 167,
   "metadata": {},
   "outputs": [
    {
     "data": {
      "text/html": [
       "<div>\n",
       "<style scoped>\n",
       "    .dataframe tbody tr th:only-of-type {\n",
       "        vertical-align: middle;\n",
       "    }\n",
       "\n",
       "    .dataframe tbody tr th {\n",
       "        vertical-align: top;\n",
       "    }\n",
       "\n",
       "    .dataframe thead th {\n",
       "        text-align: right;\n",
       "    }\n",
       "</style>\n",
       "<table border=\"1\" class=\"dataframe\">\n",
       "  <thead>\n",
       "    <tr style=\"text-align: right;\">\n",
       "      <th></th>\n",
       "      <th>movieId</th>\n",
       "      <th>rating</th>\n",
       "      <th>title</th>\n",
       "    </tr>\n",
       "  </thead>\n",
       "  <tbody>\n",
       "    <tr>\n",
       "      <th>0</th>\n",
       "      <td>318</td>\n",
       "      <td>153</td>\n",
       "      <td>Shawshank Redemption, The (1994)</td>\n",
       "    </tr>\n",
       "  </tbody>\n",
       "</table>\n",
       "</div>"
      ],
      "text/plain": [
       "   movieId  rating                             title\n",
       "0      318     153  Shawshank Redemption, The (1994)"
      ]
     },
     "execution_count": 167,
     "metadata": {},
     "output_type": "execute_result"
    }
   ],
   "source": [
    "ratings = pd.read_csv('c:\\\\temp\\\\ml-latest-small\\\\ratings.csv')\n",
    "movies = pd.read_csv('c:\\\\temp\\\\ml-latest-small\\\\movies.csv')\n",
    "ratings_5=ratings[ratings['rating']==5].groupby('movieId').count()[['rating']].sort_values('rating', ascending=False).head(1)\n",
    "joined = ratings_5.merge(movies.loc[:, ['movieId','title']], on='movieId', how='left')\n",
    "joined.head()\n"
   ]
  },
  {
   "cell_type": "markdown",
   "metadata": {},
   "source": [
    "###### Задание 4"
   ]
  },
  {
   "cell_type": "code",
   "execution_count": 223,
   "metadata": {},
   "outputs": [
    {
     "name": "stdout",
     "output_type": "stream",
     "text": [
      "quantity    240580.0\n",
      "dtype: float64\n"
     ]
    }
   ],
   "source": [
    "power = pd.read_csv('c:\\\\temp\\\\power.csv')\n",
    "baltic = power[power['country'].isin(['Latvia', 'Estonia', 'Lithuania']) & (power['quantity'] > 0) & power['category'].isin([4, 12, 21]) & power['year'].isin([2005, 2006, 2007, 2008, 2009, 2010])]\n",
    "print (baltic.agg({'quantity': 'sum'}))\n"
   ]
  },
  {
   "cell_type": "markdown",
   "metadata": {},
   "source": [
    "###### Задание 5"
   ]
  },
  {
   "cell_type": "code",
   "execution_count": 227,
   "metadata": {},
   "outputs": [
    {
     "data": {
      "text/plain": [
       "True"
      ]
     },
     "execution_count": 227,
     "metadata": {},
     "output_type": "execute_result"
    }
   ],
   "source": [
    "from numpy import linalg\n",
    "a = np.array( [ [4, 2, 1], [1, 3, 0], [5, 0, 4] ] )\n",
    "b = np.array( [4, 12, -3] )\n",
    "linalg.solve(a, b)\n",
    "np.allclose( np.dot(a, linalg.solve(a, b)), b )"
   ]
  },
  {
   "cell_type": "code",
   "execution_count": null,
   "metadata": {},
   "outputs": [],
   "source": []
  }
 ],
 "metadata": {
  "kernelspec": {
   "display_name": "Python 3",
   "language": "python",
   "name": "python3"
  },
  "language_info": {
   "codemirror_mode": {
    "name": "ipython",
    "version": 3
   },
   "file_extension": ".py",
   "mimetype": "text/x-python",
   "name": "python",
   "nbconvert_exporter": "python",
   "pygments_lexer": "ipython3",
   "version": "3.7.1"
  }
 },
 "nbformat": 4,
 "nbformat_minor": 2
}
