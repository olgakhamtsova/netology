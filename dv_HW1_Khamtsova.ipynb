{
 "cells": [
  {
   "cell_type": "markdown",
   "metadata": {},
   "source": [
    "# Домашняя работа №1"
   ]
  },
  {
   "cell_type": "markdown",
   "metadata": {},
   "source": [
    "###### Задание 1"
   ]
  },
  {
   "cell_type": "code",
   "execution_count": 12,
   "metadata": {},
   "outputs": [
    {
     "data": {
      "text/html": [
       "<div>\n",
       "<style scoped>\n",
       "    .dataframe tbody tr th:only-of-type {\n",
       "        vertical-align: middle;\n",
       "    }\n",
       "\n",
       "    .dataframe tbody tr th {\n",
       "        vertical-align: top;\n",
       "    }\n",
       "\n",
       "    .dataframe thead th {\n",
       "        text-align: right;\n",
       "    }\n",
       "</style>\n",
       "<table border=\"1\" class=\"dataframe\">\n",
       "  <thead>\n",
       "    <tr style=\"text-align: right;\">\n",
       "      <th></th>\n",
       "      <th>longitude</th>\n",
       "      <th>latitude</th>\n",
       "      <th>housing_median_age</th>\n",
       "      <th>total_rooms</th>\n",
       "      <th>total_bedrooms</th>\n",
       "      <th>population</th>\n",
       "      <th>households</th>\n",
       "      <th>median_income</th>\n",
       "      <th>median_house_value</th>\n",
       "      <th>ocean_proximity</th>\n",
       "    </tr>\n",
       "  </thead>\n",
       "  <tbody>\n",
       "    <tr>\n",
       "      <th>0</th>\n",
       "      <td>-122.23</td>\n",
       "      <td>37.88</td>\n",
       "      <td>41.0</td>\n",
       "      <td>880.0</td>\n",
       "      <td>129.0</td>\n",
       "      <td>322.0</td>\n",
       "      <td>126.0</td>\n",
       "      <td>8.3252</td>\n",
       "      <td>452600.0</td>\n",
       "      <td>NEAR BAY</td>\n",
       "    </tr>\n",
       "    <tr>\n",
       "      <th>1</th>\n",
       "      <td>-122.22</td>\n",
       "      <td>37.86</td>\n",
       "      <td>21.0</td>\n",
       "      <td>7099.0</td>\n",
       "      <td>1106.0</td>\n",
       "      <td>2401.0</td>\n",
       "      <td>1138.0</td>\n",
       "      <td>8.3014</td>\n",
       "      <td>358500.0</td>\n",
       "      <td>NEAR BAY</td>\n",
       "    </tr>\n",
       "    <tr>\n",
       "      <th>2</th>\n",
       "      <td>-122.24</td>\n",
       "      <td>37.85</td>\n",
       "      <td>52.0</td>\n",
       "      <td>1467.0</td>\n",
       "      <td>190.0</td>\n",
       "      <td>496.0</td>\n",
       "      <td>177.0</td>\n",
       "      <td>7.2574</td>\n",
       "      <td>352100.0</td>\n",
       "      <td>NEAR BAY</td>\n",
       "    </tr>\n",
       "    <tr>\n",
       "      <th>3</th>\n",
       "      <td>-122.25</td>\n",
       "      <td>37.85</td>\n",
       "      <td>52.0</td>\n",
       "      <td>1274.0</td>\n",
       "      <td>235.0</td>\n",
       "      <td>558.0</td>\n",
       "      <td>219.0</td>\n",
       "      <td>5.6431</td>\n",
       "      <td>341300.0</td>\n",
       "      <td>NEAR BAY</td>\n",
       "    </tr>\n",
       "    <tr>\n",
       "      <th>4</th>\n",
       "      <td>-122.25</td>\n",
       "      <td>37.85</td>\n",
       "      <td>52.0</td>\n",
       "      <td>1627.0</td>\n",
       "      <td>280.0</td>\n",
       "      <td>565.0</td>\n",
       "      <td>259.0</td>\n",
       "      <td>3.8462</td>\n",
       "      <td>342200.0</td>\n",
       "      <td>NEAR BAY</td>\n",
       "    </tr>\n",
       "  </tbody>\n",
       "</table>\n",
       "</div>"
      ],
      "text/plain": [
       "   longitude  latitude  housing_median_age  total_rooms  total_bedrooms  \\\n",
       "0    -122.23     37.88                41.0        880.0           129.0   \n",
       "1    -122.22     37.86                21.0       7099.0          1106.0   \n",
       "2    -122.24     37.85                52.0       1467.0           190.0   \n",
       "3    -122.25     37.85                52.0       1274.0           235.0   \n",
       "4    -122.25     37.85                52.0       1627.0           280.0   \n",
       "\n",
       "   population  households  median_income  median_house_value ocean_proximity  \n",
       "0       322.0       126.0         8.3252            452600.0        NEAR BAY  \n",
       "1      2401.0      1138.0         8.3014            358500.0        NEAR BAY  \n",
       "2       496.0       177.0         7.2574            352100.0        NEAR BAY  \n",
       "3       558.0       219.0         5.6431            341300.0        NEAR BAY  \n",
       "4       565.0       259.0         3.8462            342200.0        NEAR BAY  "
      ]
     },
     "execution_count": 12,
     "metadata": {},
     "output_type": "execute_result"
    }
   ],
   "source": [
    "HOUSING_PATH = \"c:\\\\temp\\\\housing.csv\"\n",
    "housing = pd.read_csv(HOUSING_PATH)\n",
    "housing.head()"
   ]
  },
  {
   "cell_type": "code",
   "execution_count": 43,
   "metadata": {},
   "outputs": [],
   "source": [
    "import pandas as pd\n",
    "import numpy as np\n",
    "from sklearn import preprocessing\n",
    "import matplotlib.pyplot as plt"
   ]
  },
  {
   "cell_type": "code",
   "execution_count": 67,
   "metadata": {},
   "outputs": [
    {
     "data": {
      "text/plain": [
       "<matplotlib.axes._subplots.AxesSubplot at 0x1df8d0df240>"
      ]
     },
     "execution_count": 67,
     "metadata": {},
     "output_type": "execute_result"
    },
    {
     "data": {
      "image/png": "[encoded data removed]",
      "text/plain": [
       "<Figure size 432x288 with 1 Axes>"
      ]
     },
     "metadata": {
      "needs_background": "light"
     },
     "output_type": "display_data"
    }
   ],
   "source": [
    "scaler1 = preprocessing.MinMaxScaler()\n",
    "housing[\"median_income_norm\"] = scaler.fit_transform(housing[[\"median_income\"]])\n",
    "housing[\"median_income_norm\"].hist(bins=40)"
   ]
  },
  {
   "cell_type": "code",
   "execution_count": 37,
   "metadata": {},
   "outputs": [],
   "source": [
    "scaler2 = preprocessing.MinMaxScaler(feature_range=(0, 100))"
   ]
  },
  {
   "cell_type": "code",
   "execution_count": 45,
   "metadata": {},
   "outputs": [
    {
     "data": {
      "text/plain": [
       "0    0.894083\n",
       "1    6.721040\n",
       "2    1.381765\n",
       "3    1.555537\n",
       "4    1.575156\n",
       "5    1.149135\n",
       "6    3.057821\n",
       "7    3.234396\n",
       "8    3.371731\n",
       "9    4.338687\n",
       "Name: population_scaled, dtype: float64"
      ]
     },
     "execution_count": 45,
     "metadata": {},
     "output_type": "execute_result"
    }
   ],
   "source": [
    "housing[\"population_scaled\"] = scaler2.fit_transform(housing[[\"population\"]])\n",
    "housing[\"population_scaled\"].iloc[:10]"
   ]
  },
  {
   "cell_type": "markdown",
   "metadata": {},
   "source": [
    "###### Задание 2"
   ]
  },
  {
   "cell_type": "code",
   "execution_count": 51,
   "metadata": {},
   "outputs": [
    {
     "data": {
      "text/plain": [
       "0     129.0\n",
       "1    1106.0\n",
       "2     190.0\n",
       "3     235.0\n",
       "4     280.0\n",
       "5     213.0\n",
       "6     489.0\n",
       "7     687.0\n",
       "8     665.0\n",
       "9     707.0\n",
       "Name: total_bedrooms, dtype: float64"
      ]
     },
     "execution_count": 51,
     "metadata": {},
     "output_type": "execute_result"
    }
   ],
   "source": [
    "housing2 = housing['total_bedrooms'].fillna(housing.groupby(['ocean_proximity']).mean()['total_bedrooms'])\n",
    "housing2.iloc[:10]"
   ]
  },
  {
   "cell_type": "markdown",
   "metadata": {},
   "source": [
    "###### Задание 3"
   ]
  },
  {
   "cell_type": "code",
   "execution_count": 55,
   "metadata": {},
   "outputs": [
    {
     "data": {
      "text/plain": [
       "0    7.0\n",
       "1    6.0\n",
       "2    8.0\n",
       "3    6.0\n",
       "4    6.0\n",
       "5    5.0\n",
       "6    5.0\n",
       "7    5.0\n",
       "8    4.0\n",
       "9    5.0\n",
       "Name: total_bedrooms_avg, dtype: float64"
      ]
     },
     "execution_count": 55,
     "metadata": {},
     "output_type": "execute_result"
    }
   ],
   "source": [
    "housing['total_bedrooms_avg'] = round(housing['total_rooms']/housing['households'])\n",
    "housing['total_bedrooms_avg'].iloc[:10]"
   ]
  },
  {
   "cell_type": "code",
   "execution_count": 69,
   "metadata": {},
   "outputs": [
    {
     "data": {
      "text/plain": [
       "0        3 и более комнат\n",
       "1        3 и более комнат\n",
       "2        3 и более комнат\n",
       "3        3 и более комнат\n",
       "4        3 и более комнат\n",
       "5        3 и более комнат\n",
       "6        3 и более комнат\n",
       "7        3 и более комнат\n",
       "8        3 и более комнат\n",
       "9        3 и более комнат\n",
       "10       3 и более комнат\n",
       "11       3 и более комнат\n",
       "12       3 и более комнат\n",
       "13       3 и более комнат\n",
       "14       3 и более комнат\n",
       "15       3 и более комнат\n",
       "16       3 и более комнат\n",
       "17       3 и более комнат\n",
       "18       3 и более комнат\n",
       "19       3 и более комнат\n",
       "20       3 и более комнат\n",
       "21       3 и более комнат\n",
       "22       3 и более комнат\n",
       "23       3 и более комнат\n",
       "24       3 и более комнат\n",
       "25       3 и более комнат\n",
       "26       3 и более комнат\n",
       "27       3 и более комнат\n",
       "28       3 и более комнат\n",
       "29       3 и более комнат\n",
       "               ...       \n",
       "20610    3 и более комнат\n",
       "20611    3 и более комнат\n",
       "20612    3 и более комнат\n",
       "20613    3 и более комнат\n",
       "20614    3 и более комнат\n",
       "20615    3 и более комнат\n",
       "20616    3 и более комнат\n",
       "20617    3 и более комнат\n",
       "20618    3 и более комнат\n",
       "20619    3 и более комнат\n",
       "20620    3 и более комнат\n",
       "20621    3 и более комнат\n",
       "20622    3 и более комнат\n",
       "20623    3 и более комнат\n",
       "20624    3 и более комнат\n",
       "20625    3 и более комнат\n",
       "20626    3 и более комнат\n",
       "20627    3 и более комнат\n",
       "20628    3 и более комнат\n",
       "20629    3 и более комнат\n",
       "20630    3 и более комнат\n",
       "20631    3 и более комнат\n",
       "20632    3 и более комнат\n",
       "20633    3 и более комнат\n",
       "20634    3 и более комнат\n",
       "20635    3 и более комнат\n",
       "20636    3 и более комнат\n",
       "20637    3 и более комнат\n",
       "20638    3 и более комнат\n",
       "20639    3 и более комнат\n",
       "Name: avg_rooms_bin, Length: 20640, dtype: object"
      ]
     },
     "execution_count": 69,
     "metadata": {},
     "output_type": "execute_result"
    }
   ],
   "source": [
    "housing[\"avg_rooms_bin\"] = housing[\"total_bedrooms_avg\"].apply(lambda x: '1 комната' if x < 2 else '2 комнаты' if x == 2 else '3 комнаты' if x == 3 else '3 и более комнат')\n",
    "housing[\"avg_rooms_bin\"]"
   ]
  },
  {
   "cell_type": "code",
   "execution_count": null,
   "metadata": {},
   "outputs": [],
   "source": []
  }
 ],
 "metadata": {
  "kernelspec": {
   "display_name": "Python 3",
   "language": "python",
   "name": "python3"
  },
  "language_info": {
   "codemirror_mode": {
    "name": "ipython",
    "version": 3
   },
   "file_extension": ".py",
   "mimetype": "text/x-python",
   "name": "python",
   "nbconvert_exporter": "python",
   "pygments_lexer": "ipython3",
   "version": "3.7.1"
  }
 },
 "nbformat": 4,
 "nbformat_minor": 2
}
