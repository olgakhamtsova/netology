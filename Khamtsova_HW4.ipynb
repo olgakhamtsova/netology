{
 "cells": [
  {
   "cell_type": "markdown",
   "metadata": {},
   "source": [
    "# Домашнее задание 4"
   ]
  },
  {
   "cell_type": "markdown",
   "metadata": {},
   "source": [
    "###### Задание 1, 2"
   ]
  },
  {
   "cell_type": "code",
   "execution_count": 5,
   "metadata": {},
   "outputs": [],
   "source": [
    "from datetime import datetime"
   ]
  },
  {
   "cell_type": "code",
   "execution_count": 6,
   "metadata": {},
   "outputs": [],
   "source": [
    "from datetime import timedelta"
   ]
  },
  {
   "cell_type": "code",
   "execution_count": 7,
   "metadata": {},
   "outputs": [
    {
     "data": {
      "text/plain": [
       "['2018-08-14',\n",
       " '2018-08-15',\n",
       " '2018-08-16',\n",
       " '2018-08-17',\n",
       " '2018-08-18',\n",
       " '2018-08-19',\n",
       " '2018-08-20',\n",
       " '2018-08-21',\n",
       " '2018-08-22',\n",
       " '2018-08-23',\n",
       " '2018-08-24',\n",
       " '2018-08-25',\n",
       " '2018-08-26',\n",
       " '2018-08-27',\n",
       " '2018-08-28',\n",
       " '2018-08-29',\n",
       " '2018-08-30',\n",
       " '2018-08-31',\n",
       " '2018-09-01',\n",
       " '2018-09-02',\n",
       " '2018-09-03',\n",
       " '2018-09-04',\n",
       " '2018-09-05',\n",
       " '2018-09-06',\n",
       " '2018-09-07',\n",
       " '2018-09-08',\n",
       " '2018-09-09',\n",
       " '2018-09-10',\n",
       " '2018-09-11',\n",
       " '2018-09-12',\n",
       " '2018-09-13']"
      ]
     },
     "execution_count": 7,
     "metadata": {},
     "output_type": "execute_result"
    }
   ],
   "source": [
    "def date_range(start_date, end_date):\n",
    "    try:\n",
    "        start_date_date = datetime.strptime( start_date, '%Y-%m-%d' )\n",
    "        end_date_date = datetime.strptime( end_date, '%Y-%m-%d' )\n",
    "    except Exception as e:\n",
    "        print(e)\n",
    "        return []\n",
    "        \n",
    "    if start_date > end_date:\n",
    "        return []\n",
    "    result=[]\n",
    "    a=start_date_date\n",
    "    while end_date_date > a:\n",
    "        result.append(datetime.strftime( a, '%Y-%m-%d' ))\n",
    "        a=a + timedelta(days=1)\n",
    "        if a > end_date_date - timedelta(days=1):\n",
    "            break\n",
    "    return result\n",
    "\n",
    "\n",
    "date_range('2018-08-14', '2018-09-14')"
   ]
  },
  {
   "cell_type": "markdown",
   "metadata": {},
   "source": [
    "###### Задание 3"
   ]
  },
  {
   "cell_type": "code",
   "execution_count": 8,
   "metadata": {},
   "outputs": [
    {
     "name": "stdout",
     "output_type": "stream",
     "text": [
      "2018-04-02 True\n",
      "2018-02-29 False\n",
      "2018-19-02 False\n"
     ]
    }
   ],
   "source": [
    "result=[]\n",
    "def date_is_correct(stream):\n",
    "    rc = []\n",
    "    for i in stream:\n",
    "        try:\n",
    "            i1 = datetime.strptime( i, '%Y-%m-%d' )\n",
    "            rc.append(True)\n",
    "        except ValueError:\n",
    "            rc.append(False)\n",
    "    return rc\n",
    "\n",
    "stream = ['2018-04-02', '2018-02-29', '2018-19-02']\n",
    "result = date_is_correct(stream)\n",
    "for i in range(len(stream)):\n",
    "    print (stream[i], result[i])"
   ]
  },
  {
   "cell_type": "markdown",
   "metadata": {},
   "source": [
    "###### Задание 4"
   ]
  },
  {
   "cell_type": "code",
   "execution_count": 9,
   "metadata": {},
   "outputs": [],
   "source": [
    "from datetime import date"
   ]
  },
  {
   "cell_type": "code",
   "execution_count": 10,
   "metadata": {
    "scrolled": true
   },
   "outputs": [
    {
     "name": "stdout",
     "output_type": "stream",
     "text": [
      "['2019-03-01', '2019-03-02', '2019-03-03', '2019-03-04', '2019-03-05', '2019-03-06', '2019-03-07', '2019-03-08', '2019-03-09', '2019-03-10', '2019-03-11', '2019-03-12', '2019-03-13', '2019-03-14', '2019-03-15', '2019-03-16', '2019-03-17', '2019-03-18', '2019-03-19', '2019-03-20', '2019-03-21']\n"
     ]
    }
   ],
   "source": [
    "result = []\n",
    "def date_list(today):\n",
    "    rc = []\n",
    "    current_year = today.year\n",
    "    current_month = today.month\n",
    "    current_day = today.day\n",
    "    if (today.day==1):\n",
    "        previous_date = date(current_year, current_month, current_day) - timedelta(days=1)\n",
    "        current_year= previous_date.year\n",
    "        current_month = previous_date.month\n",
    "        current_day= previous_date.day+1\n",
    "    for i in range(1, current_day ):\n",
    "        rc.append(datetime.strftime( date(current_year, current_month, i), '%Y-%m-%d' ))\n",
    "    return rc\n",
    "    \n",
    "result = date_list(datetime.now())\n",
    "print (result)"
   ]
  },
  {
   "cell_type": "markdown",
   "metadata": {},
   "source": [
    "###### Задание 5"
   ]
  },
  {
   "cell_type": "code",
   "execution_count": 36,
   "metadata": {},
   "outputs": [
    {
     "data": {
      "text/plain": [
       "'2019-03-18'"
      ]
     },
     "execution_count": 36,
     "metadata": {},
     "output_type": "execute_result"
    }
   ],
   "source": [
    "def day_date(line):\n",
    "    current_date = datetime.now()\n",
    "    current_year = current_date.year\n",
    "    current_month = current_date.month\n",
    "    current_day = current_date.day\n",
    "    if line == 'today':\n",
    "        return datetime.strftime(datetime.now(), '%Y-%m-%d')\n",
    "    \n",
    "    max_days = [31,28,31,30,31,30,31,31,30,31,30,31]\n",
    "    \n",
    "    if line== 'last day': \n",
    "        if current_month!=2:\n",
    "            current_day= max_days[current_month-1]\n",
    "        else:\n",
    "            if current_year % 4 ==0:\n",
    "                current_day=29\n",
    "            else:\n",
    "                current_day=28\n",
    "        return datetime.strftime(date(current_year, current_month, current_day), '%Y-%m-%d')\n",
    "    if line== 'last monday':\n",
    "        days_from_monday=datetime.isoweekday(datetime.now())-1\n",
    "        return datetime.strftime(datetime.now() - timedelta(days=days_from_monday), '%Y-%m-%d')\n",
    "\n",
    "day_date('last monday')"
   ]
  },
  {
   "cell_type": "code",
   "execution_count": 37,
   "metadata": {},
   "outputs": [
    {
     "data": {
      "text/plain": [
       "'2019-03-31'"
      ]
     },
     "execution_count": 37,
     "metadata": {},
     "output_type": "execute_result"
    }
   ],
   "source": [
    "day_date('last day')"
   ]
  },
  {
   "cell_type": "code",
   "execution_count": 38,
   "metadata": {},
   "outputs": [
    {
     "data": {
      "text/plain": [
       "'2019-03-22'"
      ]
     },
     "execution_count": 38,
     "metadata": {},
     "output_type": "execute_result"
    }
   ],
   "source": [
    "day_date('today')"
   ]
  },
  {
   "cell_type": "code",
   "execution_count": null,
   "metadata": {},
   "outputs": [],
   "source": []
  }
 ],
 "metadata": {
  "kernelspec": {
   "display_name": "Python 3",
   "language": "python",
   "name": "python3"
  },
  "language_info": {
   "codemirror_mode": {
    "name": "ipython",
    "version": 3
   },
   "file_extension": ".py",
   "mimetype": "text/x-python",
   "name": "python",
   "nbconvert_exporter": "python",
   "pygments_lexer": "ipython3",
   "version": "3.7.1"
  }
 },
 "nbformat": 4,
 "nbformat_minor": 2
}
