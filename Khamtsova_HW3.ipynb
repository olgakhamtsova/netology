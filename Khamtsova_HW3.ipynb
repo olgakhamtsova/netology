{
 "cells": [
  {
   "cell_type": "markdown",
   "metadata": {},
   "source": [
    "# Домашняя работа №3\n",
    "# Хамцовой Ольги"
   ]
  },
  {
   "cell_type": "markdown",
   "metadata": {},
   "source": [
    "###### Задание 1"
   ]
  },
  {
   "cell_type": "code",
   "execution_count": 1,
   "metadata": {},
   "outputs": [],
   "source": [
    "data = [\n",
    "[13, 25, 23, 34],\n",
    "[45, 32, 44, 47],\n",
    "[12, 33, 23, 95],\n",
    "[13, 53, 34, 35],\n",
    "]"
   ]
  },
  {
   "cell_type": "code",
   "execution_count": 5,
   "metadata": {},
   "outputs": [
    {
     "name": "stdout",
     "output_type": "stream",
     "text": [
      "103\n"
     ]
    }
   ],
   "source": [
    "sumDiag = 0\n",
    "for i in range(len(data)):\n",
    "    for j in range(len(data[i])):\n",
    "        if i==j:\n",
    "           sumDiag = sumDiag + data[i][j] \n",
    "print (sumDiag)"
   ]
  },
  {
   "cell_type": "markdown",
   "metadata": {},
   "source": [
    "###### Задание 2"
   ]
  },
  {
   "cell_type": "code",
   "execution_count": 59,
   "metadata": {},
   "outputs": [
    {
     "data": {
      "text/plain": [
       "430"
      ]
     },
     "execution_count": 59,
     "metadata": {},
     "output_type": "execute_result"
    }
   ],
   "source": [
    "data = [1, '5', 'abc', 20, '2']\n",
    "string_data=[str(i) for i in data]\n",
    "a = []\n",
    "for i in string_data:\n",
    "    if i.isdigit():\n",
    "        a.append(int(i))\n",
    "sum(map(lambda x:x*x,a))"
   ]
  },
  {
   "cell_type": "markdown",
   "metadata": {},
   "source": [
    "###### Задание 3"
   ]
  },
  {
   "cell_type": "code",
   "execution_count": 64,
   "metadata": {},
   "outputs": [
    {
     "data": {
      "text/plain": [
       "'Датских крон'"
      ]
     },
     "execution_count": 64,
     "metadata": {},
     "output_type": "execute_result"
    }
   ],
   "source": [
    "import requests\n",
    "r = requests.get('https://www.cbr-xml-daily.ru/daily_json.js')\n",
    "def max_rate(field):\n",
    "    a = 0\n",
    "    b = ''\n",
    "    for i in r.json()['Valute'].values():\n",
    "        if i['Value'] > a:\n",
    "            a=i['Value']\n",
    "            b=i[field]\n",
    "    return b\n",
    "\n",
    "max_rate('Name')"
   ]
  },
  {
   "cell_type": "markdown",
   "metadata": {},
   "source": [
    "###### Задание 4.1"
   ]
  },
  {
   "cell_type": "code",
   "execution_count": 65,
   "metadata": {},
   "outputs": [],
   "source": [
    "import requests"
   ]
  },
  {
   "cell_type": "code",
   "execution_count": 113,
   "metadata": {},
   "outputs": [],
   "source": [
    "class Rate:\n",
    "    def __init__(self, value='value'):\n",
    "        self.value = value\n",
    "\n",
    "    \n",
    "    \n",
    "    def exchange_rates(self):\n",
    "        \n",
    "        r = requests.get('https://www.cbr-xml-daily.ru/daily_json.js')\n",
    "        return r.json()['Valute']\n",
    "    \n",
    "    def make_format(self, currency):\n",
    "        \n",
    "        response = self.exchange_rates()\n",
    "        \n",
    "        if currency in response:\n",
    "            if self.value == 'full':\n",
    "                return response[currency]\n",
    "            \n",
    "            if self.value == 'value':\n",
    "                return response[currency]['Value']\n",
    "            if self.value == 'name':\n",
    "                return response[currency]['Name']\n",
    "        \n",
    "        return 'Error'\n",
    "    \n",
    "    def eur(self):\n",
    "        \n",
    "        return self.make_format('EUR')\n",
    "    \n",
    "    def usd(self):\n",
    "        \n",
    "        return self.make_format('USD')"
   ]
  },
  {
   "cell_type": "code",
   "execution_count": 114,
   "metadata": {},
   "outputs": [],
   "source": [
    "curr = Rate('name')"
   ]
  },
  {
   "cell_type": "code",
   "execution_count": 115,
   "metadata": {},
   "outputs": [
    {
     "data": {
      "text/plain": [
       "'Доллар США'"
      ]
     },
     "execution_count": 115,
     "metadata": {},
     "output_type": "execute_result"
    }
   ],
   "source": [
    "curr.usd()"
   ]
  },
  {
   "cell_type": "code",
   "execution_count": 108,
   "metadata": {},
   "outputs": [
    {
     "data": {
      "text/plain": [
       "'Евро'"
      ]
     },
     "execution_count": 108,
     "metadata": {},
     "output_type": "execute_result"
    }
   ],
   "source": [
    "curr.eur()\n"
   ]
  },
  {
   "cell_type": "code",
   "execution_count": 109,
   "metadata": {},
   "outputs": [
    {
     "data": {
      "text/plain": [
       "{'ID': 'R01239',\n",
       " 'NumCode': '978',\n",
       " 'CharCode': 'EUR',\n",
       " 'Nominal': 1,\n",
       " 'Name': 'Евро',\n",
       " 'Value': 74.0613,\n",
       " 'Previous': 74.0237}"
      ]
     },
     "execution_count": 109,
     "metadata": {},
     "output_type": "execute_result"
    }
   ],
   "source": [
    "Rate('full').eur()"
   ]
  },
  {
   "cell_type": "markdown",
   "metadata": {},
   "source": [
    "###### Задание 4.2"
   ]
  },
  {
   "cell_type": "code",
   "execution_count": 197,
   "metadata": {},
   "outputs": [],
   "source": [
    "class Rate:\n",
    "    def __init__(self, currency='EUR', value='value', diff=True, difference=0, r=''):\n",
    "        self.value = value\n",
    "        self.diff = diff\n",
    "        self.difference=difference\n",
    "        self.currency = currency\n",
    "        r = requests.get('https://www.cbr-xml-daily.ru/daily_json.js')\n",
    "        self.r = r.json()['Valute'][currency]\n",
    "        self.difference = self.r['Value']-self.r['Previous']\n",
    "    \n",
    "    def change_currency(self, currency):\n",
    "        self.currency = currency\n",
    "        r = requests.get('https://www.cbr-xml-daily.ru/daily_json.js')\n",
    "        self.r = r.json()['Valute'][currency]\n",
    "        self.difference = self.r['Value']-self.r['Previous']\n",
    "    \n",
    "    def print_teg(self, teg): \n",
    "        if teg in self.r:\n",
    "            if self.value == 'full':\n",
    "                return self.r\n",
    "            else:\n",
    "                return self.r[teg]\n",
    "        \n",
    "        return 'Error'\n",
    "    \n",
    "    def eur(self):\n",
    "        if self.diff==True:\n",
    "            return self.difference\n",
    "        else:\n",
    "            return self.print_teg('Value')\n",
    "    \n",
    "    def usd(self):\n",
    "        if self.diff==True:\n",
    "            return self.difference\n",
    "        else:\n",
    "            return self.print_teg('Value')"
   ]
  },
  {
   "cell_type": "code",
   "execution_count": 202,
   "metadata": {},
   "outputs": [
    {
     "name": "stdout",
     "output_type": "stream",
     "text": [
      "46.2066\n",
      "74.0613\n"
     ]
    },
    {
     "data": {
      "text/plain": [
       "0.037599999999997635"
      ]
     },
     "execution_count": 202,
     "metadata": {},
     "output_type": "execute_result"
    }
   ],
   "source": [
    "curr = Rate()\n",
    "curr.change_currency('AUD')\n",
    "curr.diff=False\n",
    "print(curr.eur())\n",
    "curr.change_currency('EUR')\n",
    "curr.diff=False\n",
    "print(curr.eur())\n",
    "curr.change_currency('EUR')\n",
    "curr.diff=True\n",
    "curr.eur()"
   ]
  },
  {
   "cell_type": "markdown",
   "metadata": {},
   "source": [
    "###### Задание 5"
   ]
  },
  {
   "cell_type": "code",
   "execution_count": 234,
   "metadata": {},
   "outputs": [
    {
     "name": "stdout",
     "output_type": "stream",
     "text": [
      "13\n",
      "33\n"
     ]
    }
   ],
   "source": [
    "M = {0: 0, 1: 1}\n",
    "\n",
    "def fib(n):\n",
    "    if n in M:\n",
    "        return M[n]\n",
    "    M[n] = fib(n - 1) + fib(n - 2)\n",
    "    return M[n]\n",
    "\n",
    "print (fib(7))\n",
    "a=0\n",
    "for i in M:\n",
    "    a+=M[i]\n",
    "print(a)"
   ]
  },
  {
   "cell_type": "code",
   "execution_count": 261,
   "metadata": {},
   "outputs": [
    {
     "name": "stdout",
     "output_type": "stream",
     "text": [
      "4 {'cpc': 100}\n",
      "3 {'cpc': 100, 'yandex': {...}} yandex {'cpc': 100, 'yandex': {...}}\n",
      "2 {'cpc': 100, 'yandex': {...}, '2018-01-01': {...}} 2018-01-01 {'cpc': 100, 'yandex': {...}, '2018-01-01': {...}}\n",
      "1 {'cpc': 100, 'yandex': {...}, '2018-01-01': {...}}\n"
     ]
    }
   ],
   "source": [
    "a= ['2018-01-01', 'yandex', 'cpc', 100]\n",
    "d1 = dict()\n",
    "b=len(a)\n",
    "d1[a[b-2]]=a[b-1]\n",
    "print(b, d1)\n",
    "b-=1\n",
    "\n",
    "while (b>1):\n",
    "    d1[a[b-2]]=d1\n",
    "    print (b, d1[a[b-2]], a[b-2], d1)\n",
    "    b-=1\n",
    "print(b, d1)\n"
   ]
  },
  {
   "cell_type": "markdown",
   "metadata": {},
   "source": [
    "###### Задание 6"
   ]
  },
  {
   "cell_type": "code",
   "execution_count": 308,
   "metadata": {
    "scrolled": true
   },
   "outputs": [
    {
     "name": "stdout",
     "output_type": "stream",
     "text": [
      "{'2018-01-01': {'yandex': {'cpc': {100: {}}}}}\n"
     ]
    }
   ],
   "source": [
    "from __future__ import print_function\n",
    "a= ['2018-01-01', 'yandex', 'cpc', 100]\n",
    "\n",
    "def ltod(l):\n",
    "    rv = d = {}\n",
    "    while l:\n",
    "        i = l.pop(0)\n",
    "        d[i] = {}\n",
    "        d = d[i]\n",
    "    return rv\n",
    "\n",
    "d = ltod(a)\n",
    "print(d)\n"
   ]
  },
  {
   "cell_type": "code",
   "execution_count": null,
   "metadata": {},
   "outputs": [],
   "source": []
  },
  {
   "cell_type": "code",
   "execution_count": null,
   "metadata": {},
   "outputs": [],
   "source": []
  }
 ],
 "metadata": {
  "kernelspec": {
   "display_name": "Python 3",
   "language": "python",
   "name": "python3"
  },
  "language_info": {
   "codemirror_mode": {
    "name": "ipython",
    "version": 3
   },
   "file_extension": ".py",
   "mimetype": "text/x-python",
   "name": "python",
   "nbconvert_exporter": "python",
   "pygments_lexer": "ipython3",
   "version": "3.7.1"
  }
 },
 "nbformat": 4,
 "nbformat_minor": 2
}
