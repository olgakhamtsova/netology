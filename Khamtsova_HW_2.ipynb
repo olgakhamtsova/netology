{
 "cells": [
  {
   "cell_type": "markdown",
   "metadata": {},
   "source": [
    "# Домашняя работа"
   ]
  },
  {
   "cell_type": "markdown",
   "metadata": {},
   "source": [
    "###### Задание 1"
   ]
  },
  {
   "cell_type": "code",
   "execution_count": 1,
   "metadata": {},
   "outputs": [],
   "source": [
    "geo_logs = [\n",
    "\n",
    "    {'visit1': ['Москва', 'Россия']},\n",
    "    \n",
    "    {'visit2': ['Дели', 'Индия']},\n",
    "    \n",
    "    {'visit3': ['Владимир', 'Россия']},\n",
    "    \n",
    "    {'visit4': ['Лиссабон', 'Португалия']},\n",
    "    \n",
    "    {'visit5': ['Париж', 'Франция']},\n",
    "    \n",
    "    {'visit6': ['Лиссабон', 'Португалия']},\n",
    "    \n",
    "    {'visit7': ['Тула', 'Россия']},\n",
    "    \n",
    "    {'visit8': ['Тула', 'Россия']},\n",
    "    \n",
    "    {'visit9': ['Курск', 'Россия']},\n",
    "    \n",
    "    {'visit10': ['Архангельск', 'Россия']},\n",
    "    \n",
    "]"
   ]
  },
  {
   "cell_type": "code",
   "execution_count": 46,
   "metadata": {},
   "outputs": [
    {
     "name": "stdout",
     "output_type": "stream",
     "text": [
      "{'visit1': ['Москва', 'Россия']}\n",
      "{'visit3': ['Владимир', 'Россия']}\n",
      "{'visit7': ['Тула', 'Россия']}\n",
      "{'visit8': ['Тула', 'Россия']}\n",
      "{'visit9': ['Курск', 'Россия']}\n",
      "{'visit10': ['Архангельск', 'Россия']}\n"
     ]
    }
   ],
   "source": [
    "for i in geo_logs:\n",
    "    for key, value in i.items(): \n",
    "        if value[1]=='Россия':\n",
    "            print (i)"
   ]
  },
  {
   "cell_type": "markdown",
   "metadata": {},
   "source": [
    "###### Задание 2"
   ]
  },
  {
   "cell_type": "code",
   "execution_count": 47,
   "metadata": {},
   "outputs": [],
   "source": [
    "ids = {'user1': [213, 213, 213, 15, 213], 'user2': [54, 54, 119, 119, 119], 'user3': [213, 98, 98, 35]}"
   ]
  },
  {
   "cell_type": "code",
   "execution_count": 65,
   "metadata": {},
   "outputs": [
    {
     "name": "stdout",
     "output_type": "stream",
     "text": [
      "[213, 15, 54, 119, 98, 35]\n"
     ]
    }
   ],
   "source": [
    "s = []\n",
    "for key in ids.values():\n",
    "    for i in key:\n",
    "        if not i in s:\n",
    "            s.append(i)\n",
    "print( s )"
   ]
  },
  {
   "cell_type": "markdown",
   "metadata": {},
   "source": [
    "###### Задание 3"
   ]
  },
  {
   "cell_type": "code",
   "execution_count": 66,
   "metadata": {},
   "outputs": [],
   "source": [
    "queries = [\n",
    "\n",
    "    'смотреть сериалы онлайн',\n",
    "    \n",
    "    'новости спорта',\n",
    "    \n",
    "    'афиша кино',\n",
    "    \n",
    "    'курс доллара',\n",
    "    \n",
    "    'сериалы этим летом',\n",
    "    \n",
    "    'курс по питону',\n",
    "    \n",
    "    'сериалы про спорт',\n",
    "]"
   ]
  },
  {
   "cell_type": "code",
   "execution_count": 97,
   "metadata": {},
   "outputs": [
    {
     "name": "stdout",
     "output_type": "stream",
     "text": [
      "поисковых запросов из 3 слов 57%\n",
      "поисковых запросов из 2 слов 43%\n"
     ]
    }
   ],
   "source": [
    "a = []\n",
    "s = []\n",
    "for i in queries:\n",
    "    s.append (i.count(' ')+1)\n",
    "    for j in s:\n",
    "        if j not in a:\n",
    "            a.append(j)\n",
    "for i in a:\n",
    "    print(\"поисковых запросов из\",i, \"слов\", \"{:.0%}\".format(s.count(i)/len(s)))\n"
   ]
  },
  {
   "cell_type": "markdown",
   "metadata": {},
   "source": [
    "###### Задание 4 "
   ]
  },
  {
   "cell_type": "code",
   "execution_count": 98,
   "metadata": {},
   "outputs": [],
   "source": [
    "stats = {'facebook': 55, 'yandex': 120, 'vk': 115, 'google': 99, 'email': 42, 'ok': 98}"
   ]
  },
  {
   "cell_type": "code",
   "execution_count": 177,
   "metadata": {},
   "outputs": [
    {
     "name": "stdout",
     "output_type": "stream",
     "text": [
      "yandex\n"
     ]
    }
   ],
   "source": [
    "import operator\n",
    "sorted_stats = sorted(stats.items(), key=operator.itemgetter(1), reverse=True)\n",
    "print (sorted_stats[0][0])"
   ]
  },
  {
   "cell_type": "markdown",
   "metadata": {},
   "source": [
    "###### Задание 5"
   ]
  },
  {
   "cell_type": "code",
   "execution_count": 178,
   "metadata": {},
   "outputs": [],
   "source": [
    "stream = [\n",
    "\n",
    "    '2018-01-01,user1,3',\n",
    "    \n",
    "    '2018-01-07,user1,4',\n",
    "    \n",
    "    '2018-03-29,user1,1',\n",
    "    \n",
    "    '2018-04-04,user1,13',\n",
    "    \n",
    "    '2018-01-05,user2,7',\n",
    "    \n",
    "    '2018-06-14,user3,4',\n",
    "    \n",
    "    '2018-07-02,user3,10',\n",
    "    \n",
    "    '2018-03-21,user4,19',\n",
    "    \n",
    "    '2018-03-22,user4,4',\n",
    "    \n",
    "    '2018-04-22,user4,8',\n",
    "    \n",
    "    \n",
    "    '2018-05-03,user4,9',\n",
    "    \n",
    "    '2018-05-11,user4,11',\n",
    "    \n",
    "]"
   ]
  },
  {
   "cell_type": "code",
   "execution_count": 214,
   "metadata": {},
   "outputs": [
    {
     "name": "stdout",
     "output_type": "stream",
     "text": [
      "0.043\n"
     ]
    }
   ],
   "source": [
    "s = []\n",
    "count_=0\n",
    "for i in stream:\n",
    "    r=i.split(',')  \n",
    "    count_ += int(r[2])\n",
    "    if not r[1] in s:\n",
    "        s.append(r[1])\n",
    "print (float(\"{0:.3f}\".format(len(s)/count_)))"
   ]
  },
  {
   "cell_type": "markdown",
   "metadata": {},
   "source": [
    "###### Задание 6"
   ]
  },
  {
   "cell_type": "code",
   "execution_count": 216,
   "metadata": {},
   "outputs": [],
   "source": [
    "dat_ = '2018-01-01'\n",
    "company = 'google'\n",
    "stats = [\n",
    "\n",
    "    ['2018-01-01', 'google', 25],\n",
    "    \n",
    "    ['2018-01-01', 'yandex', 65],\n",
    "    \n",
    "    ['2018-01-01', 'market', 89],\n",
    "    \n",
    "    ['2018-01-02', 'google', 574],\n",
    "    \n",
    "    ['2018-01-02', 'yandex', 249],\n",
    "    \n",
    "    ['2018-01-02', 'market', 994],\n",
    "    \n",
    "    \n",
    "    ['2018-01-03', 'google', 1843],\n",
    "    \n",
    "    ['2018-01-03', 'yandex', 1327],\n",
    "    \n",
    "    ['2018-01-03', 'market', 1764],\n",
    "    \n",
    "]"
   ]
  },
  {
   "cell_type": "code",
   "execution_count": 249,
   "metadata": {},
   "outputs": [
    {
     "name": "stdout",
     "output_type": "stream",
     "text": [
      "25\n"
     ]
    }
   ],
   "source": [
    "for row in stats:\n",
    "    if row[0]==dat_ and row[1]==company:\n",
    "        print (row[2])\n",
    "    "
   ]
  },
  {
   "cell_type": "markdown",
   "metadata": {},
   "source": [
    "###### Задание 7 (Бонусное)"
   ]
  },
  {
   "cell_type": "code",
   "execution_count": 16,
   "metadata": {},
   "outputs": [],
   "source": [
    "src = ['2018-01-02', 'yandex', 3, 249]\n",
    "n = len(src)\n",
    "stats = [\n",
    "\n",
    "    ['2018-01-01', 'google', 3, 5],\n",
    "    \n",
    "    ['2018-01-01', 'yandex', 3, 65],\n",
    "    \n",
    "    ['2018-01-01', 'market', 3, 89],\n",
    "    \n",
    "    ['2018-01-02', 'google', 3, 574],\n",
    "    \n",
    "    ['2018-01-02', 'yandex', 3, 249],\n",
    "    \n",
    "    ['2018-01-02', 'market', 3, 994],\n",
    "    \n",
    "    ['2018-01-03', 'google', 3, 1843],\n",
    "    \n",
    "    ['2018-01-03', 'yandex', 3, 1327],\n",
    "    \n",
    "    ['2018-01-03', 'market', 3, 1764],\n",
    "    \n",
    "]"
   ]
  },
  {
   "cell_type": "code",
   "execution_count": 18,
   "metadata": {},
   "outputs": [
    {
     "name": "stdout",
     "output_type": "stream",
     "text": [
      "249\n"
     ]
    }
   ],
   "source": [
    "for row in stats:\n",
    "    num=0\n",
    "    for i in range(n-1):\n",
    "        if row[i]==src[i]:\n",
    "            num=num+1\n",
    "    if num==(n-1):\n",
    "        print (row[n-1])"
   ]
  },
  {
   "cell_type": "code",
   "execution_count": null,
   "metadata": {},
   "outputs": [],
   "source": []
  }
 ],
 "metadata": {
  "kernelspec": {
   "display_name": "Python 3",
   "language": "python",
   "name": "python3"
  },
  "language_info": {
   "codemirror_mode": {
    "name": "ipython",
    "version": 3
   },
   "file_extension": ".py",
   "mimetype": "text/x-python",
   "name": "python",
   "nbconvert_exporter": "python",
   "pygments_lexer": "ipython3",
   "version": "3.7.1"
  }
 },
 "nbformat": 4,
 "nbformat_minor": 2
}
