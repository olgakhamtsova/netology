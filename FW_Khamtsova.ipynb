{
 "cells": [
  {
   "cell_type": "code",
   "execution_count": 12,
   "metadata": {},
   "outputs": [],
   "source": [
    "import numpy as np\n",
    "import matplotlib.pyplot as plt\n",
    "import seaborn as sns\n",
    "import pandas as pd\n",
    "import os\n",
    "%matplotlib inline\n",
    "sns.set()"
   ]
  },
  {
   "cell_type": "code",
   "execution_count": 13,
   "metadata": {},
   "outputs": [
    {
     "name": "stdout",
     "output_type": "stream",
     "text": [
      "['reviews.csv', '.DS_Store', 'neighbourhoods.csv', 'listings.csv', 'calendar_summary.csv', 'reviews_summary.csv', '.ipynb_checkpoints', 'listings_summary.csv']\n"
     ]
    }
   ],
   "source": [
    "print(os.listdir('../FinalWork/berlin-airbnb-data'))"
   ]
  },
  {
   "cell_type": "code",
   "execution_count": 14,
   "metadata": {},
   "outputs": [],
   "source": [
    "df_reviews = pd.read_csv('../FinalWork/berlin-airbnb-data/reviews.csv')\n",
    "df_neighbourhoods = pd.read_csv('../FinalWork/berlin-airbnb-data/neighbourhoods.csv')\n",
    "df_listings = pd.read_csv('../FinalWork/berlin-airbnb-data/listings.csv')\n",
    "df_calendar_summary = pd.read_csv('../FinalWork/berlin-airbnb-data/calendar_summary.csv')\n",
    "df_reviews_summary = pd.read_csv('../FinalWork/berlin-airbnb-data/reviews_summary.csv')\n",
    "df_listings_summary = pd.read_csv('../FinalWork/berlin-airbnb-data/listings_summary.csv')"
   ]
  },
  {
   "cell_type": "code",
   "execution_count": 15,
   "metadata": {},
   "outputs": [],
   "source": [
    "s2 = '\":@.-()/{}'\n",
    "for row in df_listings_summary.amenities:\n",
    "    s1 = row\n",
    "    for sim in s2:\n",
    "        s1 = s1.replace(str(sim), '')\n",
    "    R = s1.split(\",\")"
   ]
  },
  {
   "cell_type": "code",
   "execution_count": 16,
   "metadata": {},
   "outputs": [],
   "source": [
    "df_listings_summary[\"amenities\"] = df_listings_summary[\"amenities\"].apply(lambda x: x[1:-1].replace(\"\\\"\", \"\").split(\",\"))"
   ]
  },
  {
   "cell_type": "code",
   "execution_count": 17,
   "metadata": {},
   "outputs": [],
   "source": [
    "df_listings_summary[\"security_deposit\"].fillna(\"$0.00\", inplace=True)\n",
    "df_listings_summary[\"cleaning_fee\"].fillna(\"$0.00\", inplace=True)\n",
    "df_listings_summary[\"extra_people\"].fillna(\"$0.00\", inplace=True)"
   ]
  },
  {
   "cell_type": "code",
   "execution_count": 18,
   "metadata": {},
   "outputs": [],
   "source": [
    "def remove_s(str_price):\n",
    "    if \",\" in str_price:\n",
    "        str_price = str_price.replace(\",\", \"\")\n",
    "    else:\n",
    "        pass\n",
    "    return str_price[1:]\n",
    "\n",
    "\n",
    "for s_column in [\"price\", \"security_deposit\", \"cleaning_fee\", \"extra_people\"]:\n",
    "    price_no_s = df_listings_summary[s_column].apply(remove_s)\n",
    "    df_listings_summary[s_column] = price_no_s"
   ]
  },
  {
   "cell_type": "code",
   "execution_count": 19,
   "metadata": {},
   "outputs": [],
   "source": [
    "df_listings_summary[\"price\"] = df_listings_summary[\"price\"].astype(\"float\")"
   ]
  },
  {
   "cell_type": "code",
   "execution_count": 20,
   "metadata": {},
   "outputs": [],
   "source": [
    "df_listings_summary[\"host_is_superhost\"].fillna(\"f\", inplace=True)\n",
    "df_listings_summary[\"host_identity_verified\"].fillna(\"f\", inplace=True)\n",
    "df_listings_summary[\"bedrooms\"].fillna(1.0, inplace=True)"
   ]
  },
  {
   "cell_type": "code",
   "execution_count": 21,
   "metadata": {},
   "outputs": [],
   "source": [
    "columns_to_keep = [\"id\", \"description\", \"neighbourhood_cleansed\", \"neighbourhood_group_cleansed\",\n",
    "                   \"property_type\", \"room_type\", \"accommodates\", \"bathrooms\", \"bedrooms\", \"bed_type\",\n",
    "                   \"amenities\", \"square_feet\", \"price\", \"security_deposit\", \"cleaning_fee\", \"guests_included\", \n",
    "                   \"extra_people\", \"minimum_nights\", \"instant_bookable\", \"cancellation_policy\",\n",
    "                   \"host_identity_verified\", \"is_business_travel_ready\", \"host_is_superhost\", \"latitude\", \"longitude\"]"
   ]
  },
  {
   "cell_type": "code",
   "execution_count": 22,
   "metadata": {},
   "outputs": [],
   "source": [
    "df_selected = df_listings_summary[columns_to_keep].set_index('id')"
   ]
  },
  {
   "cell_type": "code",
   "execution_count": 23,
   "metadata": {},
   "outputs": [],
   "source": [
    "df_raw = df_selected[(df_selected.price \n",
    "                                 <= np.percentile(df_selected[\"price\"],\n",
    "                                99.5)) & (df_selected.price > 0)]"
   ]
  },
  {
   "cell_type": "code",
   "execution_count": 24,
   "metadata": {},
   "outputs": [
    {
     "name": "stderr",
     "output_type": "stream",
     "text": [
      "/Users/olgakhamtsova/anaconda3/lib/python3.7/site-packages/ipykernel_launcher.py:2: SettingWithCopyWarning: \n",
      "A value is trying to be set on a copy of a slice from a DataFrame.\n",
      "Try using .loc[row_indexer,col_indexer] = value instead\n",
      "\n",
      "See the caveats in the documentation: https://pandas.pydata.org/pandas-docs/stable/user_guide/indexing.html#returning-a-view-versus-a-copy\n",
      "  \n"
     ]
    }
   ],
   "source": [
    "selected = []\n",
    "df_raw[\"is_entire_apt\"] = df_raw[\"room_type\"]==\"Entire home/apt\"\n",
    "selected.append(\"is_entire_apt\")"
   ]
  },
  {
   "cell_type": "code",
   "execution_count": 25,
   "metadata": {},
   "outputs": [
    {
     "name": "stderr",
     "output_type": "stream",
     "text": [
      "/Users/olgakhamtsova/anaconda3/lib/python3.7/site-packages/ipykernel_launcher.py:1: SettingWithCopyWarning: \n",
      "A value is trying to be set on a copy of a slice from a DataFrame.\n",
      "Try using .loc[row_indexer,col_indexer] = value instead\n",
      "\n",
      "See the caveats in the documentation: https://pandas.pydata.org/pandas-docs/stable/user_guide/indexing.html#returning-a-view-versus-a-copy\n",
      "  \"\"\"Entry point for launching an IPython kernel.\n",
      "/Users/olgakhamtsova/anaconda3/lib/python3.7/site-packages/ipykernel_launcher.py:2: SettingWithCopyWarning: \n",
      "A value is trying to be set on a copy of a slice from a DataFrame.\n",
      "Try using .loc[row_indexer,col_indexer] = value instead\n",
      "\n",
      "See the caveats in the documentation: https://pandas.pydata.org/pandas-docs/stable/user_guide/indexing.html#returning-a-view-versus-a-copy\n",
      "  \n",
      "/Users/olgakhamtsova/anaconda3/lib/python3.7/site-packages/ipykernel_launcher.py:3: SettingWithCopyWarning: \n",
      "A value is trying to be set on a copy of a slice from a DataFrame.\n",
      "Try using .loc[row_indexer,col_indexer] = value instead\n",
      "\n",
      "See the caveats in the documentation: https://pandas.pydata.org/pandas-docs/stable/user_guide/indexing.html#returning-a-view-versus-a-copy\n",
      "  This is separate from the ipykernel package so we can avoid doing imports until\n"
     ]
    }
   ],
   "source": [
    "df_raw[\"hair_dryer\"] = df_raw[\"amenities\"].apply(lambda x: '\"Hair dryer\"' in x)\n",
    "df_raw[\"lap_friendly\"] = df_raw[\"amenities\"].apply(lambda x: '\"Laptop friendly workspace\"' in x)\n",
    "df_raw[\"Washer\"] = df_raw[\"amenities\"].apply(lambda x: \"Washer\" in x)\n",
    "for i in [\"hair_dryer\", \"lap_friendly\", \"Washer\"]:\n",
    "    selected.append(i)"
   ]
  },
  {
   "cell_type": "code",
   "execution_count": 26,
   "metadata": {},
   "outputs": [
    {
     "name": "stderr",
     "output_type": "stream",
     "text": [
      "/Users/olgakhamtsova/anaconda3/lib/python3.7/site-packages/ipykernel_launcher.py:1: SettingWithCopyWarning: \n",
      "A value is trying to be set on a copy of a slice from a DataFrame.\n",
      "Try using .loc[row_indexer,col_indexer] = value instead\n",
      "\n",
      "See the caveats in the documentation: https://pandas.pydata.org/pandas-docs/stable/user_guide/indexing.html#returning-a-view-versus-a-copy\n",
      "  \"\"\"Entry point for launching an IPython kernel.\n"
     ]
    }
   ],
   "source": [
    "df_raw[\"minimum_nights_more_1\"] = df_raw[\"minimum_nights\"].apply(lambda x: 'True' if x > 1 else 'False')\n",
    "selected.append(\"minimum_nights_more_1\")"
   ]
  },
  {
   "cell_type": "code",
   "execution_count": 27,
   "metadata": {},
   "outputs": [
    {
     "name": "stderr",
     "output_type": "stream",
     "text": [
      "/Users/olgakhamtsova/anaconda3/lib/python3.7/site-packages/ipykernel_launcher.py:1: SettingWithCopyWarning: \n",
      "A value is trying to be set on a copy of a slice from a DataFrame.\n",
      "Try using .loc[row_indexer,col_indexer] = value instead\n",
      "\n",
      "See the caveats in the documentation: https://pandas.pydata.org/pandas-docs/stable/user_guide/indexing.html#returning-a-view-versus-a-copy\n",
      "  \"\"\"Entry point for launching an IPython kernel.\n"
     ]
    }
   ],
   "source": [
    "df_raw[\"cleaning_fee\"] = df_raw[\"cleaning_fee\"].astype(\"float\")\n",
    "selected.append(\"cleaning_fee\")"
   ]
  },
  {
   "cell_type": "code",
   "execution_count": 28,
   "metadata": {},
   "outputs": [],
   "source": [
    "selected.append(\"accommodates\")"
   ]
  },
  {
   "cell_type": "code",
   "execution_count": 29,
   "metadata": {},
   "outputs": [],
   "source": [
    "selected.append(\"host_is_superhost\")\n",
    "selected.append(\"host_identity_verified\")\n",
    "selected.append(\"instant_bookable\")"
   ]
  },
  {
   "cell_type": "code",
   "execution_count": 30,
   "metadata": {},
   "outputs": [
    {
     "name": "stderr",
     "output_type": "stream",
     "text": [
      "/Users/olgakhamtsova/anaconda3/lib/python3.7/site-packages/ipykernel_launcher.py:1: SettingWithCopyWarning: \n",
      "A value is trying to be set on a copy of a slice from a DataFrame.\n",
      "Try using .loc[row_indexer,col_indexer] = value instead\n",
      "\n",
      "See the caveats in the documentation: https://pandas.pydata.org/pandas-docs/stable/user_guide/indexing.html#returning-a-view-versus-a-copy\n",
      "  \"\"\"Entry point for launching an IPython kernel.\n"
     ]
    },
    {
     "data": {
      "text/plain": [
       "True     13390\n",
       "False     9051\n",
       "Name: cancellation_not_flexible, dtype: int64"
      ]
     },
     "execution_count": 30,
     "metadata": {},
     "output_type": "execute_result"
    }
   ],
   "source": [
    "df_raw[\"cancellation_not_flexible\"] = df_raw[\"cancellation_policy\"]!=\"flexible\"\n",
    "df_raw[\"cancellation_not_flexible\"].value_counts()\n"
   ]
  },
  {
   "cell_type": "code",
   "execution_count": 31,
   "metadata": {},
   "outputs": [],
   "source": [
    "selected.append(\"cancellation_not_flexible\")"
   ]
  },
  {
   "cell_type": "code",
   "execution_count": 32,
   "metadata": {},
   "outputs": [
    {
     "name": "stderr",
     "output_type": "stream",
     "text": [
      "/Users/olgakhamtsova/anaconda3/lib/python3.7/site-packages/ipykernel_launcher.py:1: SettingWithCopyWarning: \n",
      "A value is trying to be set on a copy of a slice from a DataFrame.\n",
      "Try using .loc[row_indexer,col_indexer] = value instead\n",
      "\n",
      "See the caveats in the documentation: https://pandas.pydata.org/pandas-docs/stable/user_guide/indexing.html#returning-a-view-versus-a-copy\n",
      "  \"\"\"Entry point for launching an IPython kernel.\n",
      "/Users/olgakhamtsova/anaconda3/lib/python3.7/site-packages/ipykernel_launcher.py:2: SettingWithCopyWarning: \n",
      "A value is trying to be set on a copy of a slice from a DataFrame.\n",
      "Try using .loc[row_indexer,col_indexer] = value instead\n",
      "\n",
      "See the caveats in the documentation: https://pandas.pydata.org/pandas-docs/stable/user_guide/indexing.html#returning-a-view-versus-a-copy\n",
      "  \n",
      "/Users/olgakhamtsova/anaconda3/lib/python3.7/site-packages/ipykernel_launcher.py:3: SettingWithCopyWarning: \n",
      "A value is trying to be set on a copy of a slice from a DataFrame.\n",
      "Try using .loc[row_indexer,col_indexer] = value instead\n",
      "\n",
      "See the caveats in the documentation: https://pandas.pydata.org/pandas-docs/stable/user_guide/indexing.html#returning-a-view-versus-a-copy\n",
      "  This is separate from the ipykernel package so we can avoid doing imports until\n",
      "/Users/olgakhamtsova/anaconda3/lib/python3.7/site-packages/ipykernel_launcher.py:4: SettingWithCopyWarning: \n",
      "A value is trying to be set on a copy of a slice from a DataFrame.\n",
      "Try using .loc[row_indexer,col_indexer] = value instead\n",
      "\n",
      "See the caveats in the documentation: https://pandas.pydata.org/pandas-docs/stable/user_guide/indexing.html#returning-a-view-versus-a-copy\n",
      "  after removing the cwd from sys.path.\n"
     ]
    }
   ],
   "source": [
    "df_raw[\"host_is_superhost\"] = df_raw[\"host_is_superhost\"]==\"t\"\n",
    "df_raw[\"host_identity_verified\"] = df_raw[\"host_identity_verified\"]==\"t\"\n",
    "df_raw[\"instant_bookable\"] = df_raw[\"instant_bookable\"]==\"t\"\n",
    "df_raw[\"minimum_nights_more_1\"] = df_raw[\"minimum_nights_more_1\"]==\"t\""
   ]
  },
  {
   "cell_type": "code",
   "execution_count": 33,
   "metadata": {},
   "outputs": [],
   "source": [
    "lat_long_list = [[52.525293,13.369359],[52.558794,13.288437],[52.516497,13.377683],\n",
    "                 [52.517693,13.402141],[52.518770,13.376166]]"
   ]
  },
  {
   "cell_type": "code",
   "execution_count": 34,
   "metadata": {},
   "outputs": [],
   "source": [
    "toploc = {\"hbf\": [52.525293, 13.369359], \n",
    "          \"txl\": [52.558794, 13.288437], \n",
    "          \"btor\": [52.516497, 13.377683], \n",
    "          \"museum\": [52.517693, 13.402141], \n",
    "          \"reichstag\": [52.518770, 13.376166]}"
   ]
  },
  {
   "cell_type": "code",
   "execution_count": 35,
   "metadata": {},
   "outputs": [
    {
     "name": "stderr",
     "output_type": "stream",
     "text": [
      "/Users/olgakhamtsova/anaconda3/lib/python3.7/site-packages/ipykernel_launcher.py:1: SettingWithCopyWarning: \n",
      "A value is trying to be set on a copy of a slice from a DataFrame.\n",
      "Try using .loc[row_indexer,col_indexer] = value instead\n",
      "\n",
      "See the caveats in the documentation: https://pandas.pydata.org/pandas-docs/stable/user_guide/indexing.html#returning-a-view-versus-a-copy\n",
      "  \"\"\"Entry point for launching an IPython kernel.\n"
     ]
    }
   ],
   "source": [
    "df_raw[\"good_location\"] = df_raw[\"neighbourhood_group_cleansed\"].apply(lambda x: 'True' if x in [\"Mitte\", \"Friedrichshain-Kreuzberg\", \"Charlottenburg-Wilm.\", \"Tempelhof - Schöneberg\", \"Pankow\"] else 'False')"
   ]
  },
  {
   "cell_type": "code",
   "execution_count": 36,
   "metadata": {},
   "outputs": [
    {
     "name": "stderr",
     "output_type": "stream",
     "text": [
      "/Users/olgakhamtsova/anaconda3/lib/python3.7/site-packages/ipykernel_launcher.py:2: SettingWithCopyWarning: \n",
      "A value is trying to be set on a copy of a slice from a DataFrame.\n",
      "Try using .loc[row_indexer,col_indexer] = value instead\n",
      "\n",
      "See the caveats in the documentation: https://pandas.pydata.org/pandas-docs/stable/user_guide/indexing.html#returning-a-view-versus-a-copy\n",
      "  \n"
     ]
    }
   ],
   "source": [
    "selected.append(\"good_location\")\n",
    "df_raw[\"good_location\"] = df_raw[\"good_location\"]==\"t\""
   ]
  },
  {
   "cell_type": "code",
   "execution_count": 37,
   "metadata": {},
   "outputs": [
    {
     "name": "stderr",
     "output_type": "stream",
     "text": [
      "/Users/olgakhamtsova/anaconda3/lib/python3.7/site-packages/ipykernel_launcher.py:2: SettingWithCopyWarning: \n",
      "A value is trying to be set on a copy of a slice from a DataFrame.\n",
      "Try using .loc[row_indexer,col_indexer] = value instead\n",
      "\n",
      "See the caveats in the documentation: https://pandas.pydata.org/pandas-docs/stable/user_guide/indexing.html#returning-a-view-versus-a-copy\n",
      "  \n"
     ]
    }
   ],
   "source": [
    "for col in df_raw[selected].select_dtypes(\"bool\").columns:\n",
    "    df_raw[col] = df_raw[col].astype(\"int\")"
   ]
  },
  {
   "cell_type": "code",
   "execution_count": 38,
   "metadata": {},
   "outputs": [],
   "source": [
    "# В целях улучшения качества модели попробуем создать дополнительные признаки. "
   ]
  },
  {
   "cell_type": "code",
   "execution_count": 39,
   "metadata": {},
   "outputs": [
    {
     "data": {
      "text/plain": [
       "id\n",
       "2015      NaN\n",
       "2695      NaN\n",
       "3176    720.0\n",
       "3309      0.0\n",
       "7071      NaN\n",
       "Name: square_feet, dtype: float64"
      ]
     },
     "execution_count": 39,
     "metadata": {},
     "output_type": "execute_result"
    }
   ],
   "source": [
    "df_raw['square_feet'].head()"
   ]
  },
  {
   "cell_type": "code",
   "execution_count": 40,
   "metadata": {},
   "outputs": [
    {
     "data": {
      "text/plain": [
       "21996"
      ]
     },
     "execution_count": 40,
     "metadata": {},
     "output_type": "execute_result"
    }
   ],
   "source": [
    "# В предыдущей модели за размер квартиры отвечала переменная accomodates.\n",
    "# Попробуем определить размер квартир точнее, например в квадратных метрах\n",
    "# Колонка square_feet не дает необходимой информации, т.к. содержит много пропущенных значений\n",
    "df_raw.square_feet.isna().sum()"
   ]
  },
  {
   "cell_type": "code",
   "execution_count": 41,
   "metadata": {},
   "outputs": [
    {
     "data": {
      "text/plain": [
       "202"
      ]
     },
     "execution_count": 41,
     "metadata": {},
     "output_type": "execute_result"
    }
   ],
   "source": [
    "# Колонка description может содержать информацию о площади\n",
    "df_raw.description.isna().sum()"
   ]
  },
  {
   "cell_type": "code",
   "execution_count": 42,
   "metadata": {},
   "outputs": [
    {
     "name": "stderr",
     "output_type": "stream",
     "text": [
      "/Users/olgakhamtsova/anaconda3/lib/python3.7/site-packages/ipykernel_launcher.py:2: SettingWithCopyWarning: \n",
      "A value is trying to be set on a copy of a slice from a DataFrame.\n",
      "Try using .loc[row_indexer,col_indexer] = value instead\n",
      "\n",
      "See the caveats in the documentation: https://pandas.pydata.org/pandas-docs/stable/user_guide/indexing.html#returning-a-view-versus-a-copy\n",
      "  \n",
      "/Users/olgakhamtsova/anaconda3/lib/python3.7/site-packages/ipykernel_launcher.py:3: SettingWithCopyWarning: \n",
      "A value is trying to be set on a copy of a slice from a DataFrame.\n",
      "Try using .loc[row_indexer,col_indexer] = value instead\n",
      "\n",
      "See the caveats in the documentation: https://pandas.pydata.org/pandas-docs/stable/user_guide/indexing.html#returning-a-view-versus-a-copy\n",
      "  This is separate from the ipykernel package so we can avoid doing imports until\n",
      "/Users/olgakhamtsova/anaconda3/lib/python3.7/site-packages/ipykernel_launcher.py:4: SettingWithCopyWarning: \n",
      "A value is trying to be set on a copy of a slice from a DataFrame.\n",
      "Try using .loc[row_indexer,col_indexer] = value instead\n",
      "\n",
      "See the caveats in the documentation: https://pandas.pydata.org/pandas-docs/stable/user_guide/indexing.html#returning-a-view-versus-a-copy\n",
      "  after removing the cwd from sys.path.\n"
     ]
    }
   ],
   "source": [
    "# Извлечем возможные значения площади\n",
    "df_raw['size'] = df_raw['description'].str.extract('(\\d{2,3}\\s?[smSM])', expand=True)\n",
    "df_raw['size'] = df_raw['size'].str.replace(\"\\D\", \"\")\n",
    "df_raw['size'] = df_raw['size'].astype(float)"
   ]
  },
  {
   "cell_type": "code",
   "execution_count": 43,
   "metadata": {},
   "outputs": [
    {
     "data": {
      "text/plain": [
       "11744"
      ]
     },
     "execution_count": 43,
     "metadata": {},
     "output_type": "execute_result"
    }
   ],
   "source": [
    "df_raw['size'].isna().sum()"
   ]
  },
  {
   "cell_type": "code",
   "execution_count": 44,
   "metadata": {},
   "outputs": [
    {
     "data": {
      "text/html": [
       "<div>\n",
       "<style scoped>\n",
       "    .dataframe tbody tr th:only-of-type {\n",
       "        vertical-align: middle;\n",
       "    }\n",
       "\n",
       "    .dataframe tbody tr th {\n",
       "        vertical-align: top;\n",
       "    }\n",
       "\n",
       "    .dataframe thead th {\n",
       "        text-align: right;\n",
       "    }\n",
       "</style>\n",
       "<table border=\"1\" class=\"dataframe\">\n",
       "  <thead>\n",
       "    <tr style=\"text-align: right;\">\n",
       "      <th></th>\n",
       "      <th>description</th>\n",
       "      <th>size</th>\n",
       "    </tr>\n",
       "    <tr>\n",
       "      <th>id</th>\n",
       "      <th></th>\n",
       "      <th></th>\n",
       "    </tr>\n",
       "  </thead>\n",
       "  <tbody>\n",
       "    <tr>\n",
       "      <th>2015</th>\n",
       "      <td>Great location!  30 of 75 sq meters. This wood...</td>\n",
       "      <td>75.0</td>\n",
       "    </tr>\n",
       "    <tr>\n",
       "      <th>2695</th>\n",
       "      <td>In the summertime we are spending most of our ...</td>\n",
       "      <td>25.0</td>\n",
       "    </tr>\n",
       "    <tr>\n",
       "      <th>3176</th>\n",
       "      <td>This beautiful first floor apartment  is situa...</td>\n",
       "      <td>68.0</td>\n",
       "    </tr>\n",
       "    <tr>\n",
       "      <th>3309</th>\n",
       "      <td>First of all: I prefer short-notice bookings. ...</td>\n",
       "      <td>26.0</td>\n",
       "    </tr>\n",
       "    <tr>\n",
       "      <th>7071</th>\n",
       "      <td>Cozy and large room in the beautiful district ...</td>\n",
       "      <td>20.0</td>\n",
       "    </tr>\n",
       "    <tr>\n",
       "      <th>9991</th>\n",
       "      <td>4 bedroom with very large windows and outstand...</td>\n",
       "      <td>780.0</td>\n",
       "    </tr>\n",
       "    <tr>\n",
       "      <th>14325</th>\n",
       "      <td>The apartment is located on the upper second f...</td>\n",
       "      <td>NaN</td>\n",
       "    </tr>\n",
       "    <tr>\n",
       "      <th>16401</th>\n",
       "      <td>Hello future guests! We want to rent our cute ...</td>\n",
       "      <td>55.0</td>\n",
       "    </tr>\n",
       "    <tr>\n",
       "      <th>16644</th>\n",
       "      <td>Light and sunny 2-Room-turn of the century-fla...</td>\n",
       "      <td>80.0</td>\n",
       "    </tr>\n",
       "    <tr>\n",
       "      <th>17409</th>\n",
       "      <td>The 25 sqm room is located in the heart of Ber...</td>\n",
       "      <td>25.0</td>\n",
       "    </tr>\n",
       "  </tbody>\n",
       "</table>\n",
       "</div>"
      ],
      "text/plain": [
       "                                             description   size\n",
       "id                                                             \n",
       "2015   Great location!  30 of 75 sq meters. This wood...   75.0\n",
       "2695   In the summertime we are spending most of our ...   25.0\n",
       "3176   This beautiful first floor apartment  is situa...   68.0\n",
       "3309   First of all: I prefer short-notice bookings. ...   26.0\n",
       "7071   Cozy and large room in the beautiful district ...   20.0\n",
       "9991   4 bedroom with very large windows and outstand...  780.0\n",
       "14325  The apartment is located on the upper second f...    NaN\n",
       "16401  Hello future guests! We want to rent our cute ...   55.0\n",
       "16644  Light and sunny 2-Room-turn of the century-fla...   80.0\n",
       "17409  The 25 sqm room is located in the heart of Ber...   25.0"
      ]
     },
     "execution_count": 44,
     "metadata": {},
     "output_type": "execute_result"
    }
   ],
   "source": [
    "# Не все значения удалось заполнить с помощью текста описания\n",
    "df_raw[['description', 'size']].head(10)"
   ]
  },
  {
   "cell_type": "code",
   "execution_count": 45,
   "metadata": {},
   "outputs": [
    {
     "name": "stderr",
     "output_type": "stream",
     "text": [
      "/Users/olgakhamtsova/anaconda3/lib/python3.7/site-packages/ipykernel_launcher.py:1: SettingWithCopyWarning: \n",
      "A value is trying to be set on a copy of a slice from a DataFrame.\n",
      "Try using .loc[row_indexer,col_indexer] = value instead\n",
      "\n",
      "See the caveats in the documentation: https://pandas.pydata.org/pandas-docs/stable/user_guide/indexing.html#returning-a-view-versus-a-copy\n",
      "  \"\"\"Entry point for launching an IPython kernel.\n",
      "/Users/olgakhamtsova/anaconda3/lib/python3.7/site-packages/ipykernel_launcher.py:2: SettingWithCopyWarning: \n",
      "A value is trying to be set on a copy of a slice from a DataFrame.\n",
      "Try using .loc[row_indexer,col_indexer] = value instead\n",
      "\n",
      "See the caveats in the documentation: https://pandas.pydata.org/pandas-docs/stable/user_guide/indexing.html#returning-a-view-versus-a-copy\n",
      "  \n"
     ]
    }
   ],
   "source": [
    "df_raw[\"security_deposit\"] = df_raw[\"security_deposit\"].astype(\"float\")\n",
    "df_raw[\"extra_people\"] = df_raw[\"extra_people\"].astype(\"float\")"
   ]
  },
  {
   "cell_type": "code",
   "execution_count": 46,
   "metadata": {},
   "outputs": [
    {
     "name": "stderr",
     "output_type": "stream",
     "text": [
      "/Users/olgakhamtsova/anaconda3/lib/python3.7/site-packages/pandas/core/generic.py:6245: SettingWithCopyWarning: \n",
      "A value is trying to be set on a copy of a slice from a DataFrame\n",
      "\n",
      "See the caveats in the documentation: https://pandas.pydata.org/pandas-docs/stable/user_guide/indexing.html#returning-a-view-versus-a-copy\n",
      "  self._update_inplace(new_data)\n"
     ]
    },
    {
     "data": {
      "text/plain": [
       "False"
      ]
     },
     "execution_count": 46,
     "metadata": {},
     "output_type": "execute_result"
    }
   ],
   "source": [
    "df_raw[\"bathrooms\"].fillna(1.0, inplace=True)\n",
    "df_raw[\"bathrooms\"].isna().any()"
   ]
  },
  {
   "cell_type": "code",
   "execution_count": 47,
   "metadata": {},
   "outputs": [
    {
     "name": "stdout",
     "output_type": "stream",
     "text": [
      "<class 'pandas.core.frame.DataFrame'>\n",
      "Int64Index: 22441 entries, 2015 to 29867352\n",
      "Data columns (total 32 columns):\n",
      " #   Column                        Non-Null Count  Dtype  \n",
      "---  ------                        --------------  -----  \n",
      " 0   description                   22239 non-null  object \n",
      " 1   neighbourhood_cleansed        22441 non-null  object \n",
      " 2   neighbourhood_group_cleansed  22441 non-null  object \n",
      " 3   property_type                 22441 non-null  object \n",
      " 4   room_type                     22441 non-null  object \n",
      " 5   accommodates                  22441 non-null  int64  \n",
      " 6   bathrooms                     22441 non-null  float64\n",
      " 7   bedrooms                      22441 non-null  float64\n",
      " 8   bed_type                      22441 non-null  object \n",
      " 9   amenities                     22441 non-null  object \n",
      " 10  square_feet                   445 non-null    float64\n",
      " 11  price                         22441 non-null  float64\n",
      " 12  security_deposit              22441 non-null  float64\n",
      " 13  cleaning_fee                  22441 non-null  float64\n",
      " 14  guests_included               22441 non-null  int64  \n",
      " 15  extra_people                  22441 non-null  float64\n",
      " 16  minimum_nights                22441 non-null  int64  \n",
      " 17  instant_bookable              22441 non-null  int64  \n",
      " 18  cancellation_policy           22441 non-null  object \n",
      " 19  host_identity_verified        22441 non-null  int64  \n",
      " 20  is_business_travel_ready      22441 non-null  object \n",
      " 21  host_is_superhost             22441 non-null  int64  \n",
      " 22  latitude                      22441 non-null  float64\n",
      " 23  longitude                     22441 non-null  float64\n",
      " 24  is_entire_apt                 22441 non-null  int64  \n",
      " 25  hair_dryer                    22441 non-null  int64  \n",
      " 26  lap_friendly                  22441 non-null  int64  \n",
      " 27  Washer                        22441 non-null  int64  \n",
      " 28  minimum_nights_more_1         22441 non-null  int64  \n",
      " 29  cancellation_not_flexible     22441 non-null  int64  \n",
      " 30  good_location                 22441 non-null  int64  \n",
      " 31  size                          10697 non-null  float64\n",
      "dtypes: float64(10), int64(13), object(9)\n",
      "memory usage: 5.6+ MB\n"
     ]
    }
   ],
   "source": [
    "df_raw.info()"
   ]
  },
  {
   "cell_type": "code",
   "execution_count": 48,
   "metadata": {},
   "outputs": [],
   "source": [
    "# Чтобы не потерять значительную часть полезной информации, не будем избавляться от пропущенных значений.\n",
    "# Заполним их значениями, полученными с помощью алгоритма машинного обучения. Для этого используем только численные значения\n",
    "sub_df = df_raw[['accommodates', 'bathrooms', 'bedrooms',  'price', 'cleaning_fee', \n",
    "                 'security_deposit', 'extra_people', 'guests_included', 'good_location', 'size']]"
   ]
  },
  {
   "cell_type": "code",
   "execution_count": 49,
   "metadata": {},
   "outputs": [
    {
     "name": "stdout",
     "output_type": "stream",
     "text": [
      "<class 'pandas.core.frame.DataFrame'>\n",
      "Int64Index: 22441 entries, 2015 to 29867352\n",
      "Data columns (total 10 columns):\n",
      " #   Column            Non-Null Count  Dtype  \n",
      "---  ------            --------------  -----  \n",
      " 0   accommodates      22441 non-null  int64  \n",
      " 1   bathrooms         22441 non-null  float64\n",
      " 2   bedrooms          22441 non-null  float64\n",
      " 3   price             22441 non-null  float64\n",
      " 4   cleaning_fee      22441 non-null  float64\n",
      " 5   security_deposit  22441 non-null  float64\n",
      " 6   extra_people      22441 non-null  float64\n",
      " 7   guests_included   22441 non-null  int64  \n",
      " 8   good_location     22441 non-null  int64  \n",
      " 9   size              10697 non-null  float64\n",
      "dtypes: float64(7), int64(3)\n",
      "memory usage: 1.9 MB\n"
     ]
    }
   ],
   "source": [
    "sub_df.info()"
   ]
  },
  {
   "cell_type": "code",
   "execution_count": 50,
   "metadata": {},
   "outputs": [
    {
     "data": {
      "text/html": [
       "<div>\n",
       "<style scoped>\n",
       "    .dataframe tbody tr th:only-of-type {\n",
       "        vertical-align: middle;\n",
       "    }\n",
       "\n",
       "    .dataframe tbody tr th {\n",
       "        vertical-align: top;\n",
       "    }\n",
       "\n",
       "    .dataframe thead th {\n",
       "        text-align: right;\n",
       "    }\n",
       "</style>\n",
       "<table border=\"1\" class=\"dataframe\">\n",
       "  <thead>\n",
       "    <tr style=\"text-align: right;\">\n",
       "      <th></th>\n",
       "      <th>accommodates</th>\n",
       "      <th>bathrooms</th>\n",
       "      <th>bedrooms</th>\n",
       "      <th>price</th>\n",
       "      <th>cleaning_fee</th>\n",
       "      <th>security_deposit</th>\n",
       "      <th>extra_people</th>\n",
       "      <th>guests_included</th>\n",
       "      <th>good_location</th>\n",
       "      <th>size</th>\n",
       "    </tr>\n",
       "    <tr>\n",
       "      <th>id</th>\n",
       "      <th></th>\n",
       "      <th></th>\n",
       "      <th></th>\n",
       "      <th></th>\n",
       "      <th></th>\n",
       "      <th></th>\n",
       "      <th></th>\n",
       "      <th></th>\n",
       "      <th></th>\n",
       "      <th></th>\n",
       "    </tr>\n",
       "  </thead>\n",
       "  <tbody>\n",
       "    <tr>\n",
       "      <th>2015</th>\n",
       "      <td>3</td>\n",
       "      <td>1.0</td>\n",
       "      <td>1.0</td>\n",
       "      <td>60.0</td>\n",
       "      <td>30.0</td>\n",
       "      <td>200.0</td>\n",
       "      <td>28.0</td>\n",
       "      <td>1</td>\n",
       "      <td>0</td>\n",
       "      <td>75.0</td>\n",
       "    </tr>\n",
       "    <tr>\n",
       "      <th>2695</th>\n",
       "      <td>2</td>\n",
       "      <td>1.0</td>\n",
       "      <td>1.0</td>\n",
       "      <td>17.0</td>\n",
       "      <td>0.0</td>\n",
       "      <td>0.0</td>\n",
       "      <td>0.0</td>\n",
       "      <td>1</td>\n",
       "      <td>0</td>\n",
       "      <td>25.0</td>\n",
       "    </tr>\n",
       "    <tr>\n",
       "      <th>3176</th>\n",
       "      <td>4</td>\n",
       "      <td>1.0</td>\n",
       "      <td>1.0</td>\n",
       "      <td>90.0</td>\n",
       "      <td>50.0</td>\n",
       "      <td>200.0</td>\n",
       "      <td>20.0</td>\n",
       "      <td>2</td>\n",
       "      <td>0</td>\n",
       "      <td>68.0</td>\n",
       "    </tr>\n",
       "    <tr>\n",
       "      <th>3309</th>\n",
       "      <td>2</td>\n",
       "      <td>1.0</td>\n",
       "      <td>1.0</td>\n",
       "      <td>26.0</td>\n",
       "      <td>30.0</td>\n",
       "      <td>250.0</td>\n",
       "      <td>18.0</td>\n",
       "      <td>1</td>\n",
       "      <td>0</td>\n",
       "      <td>26.0</td>\n",
       "    </tr>\n",
       "    <tr>\n",
       "      <th>7071</th>\n",
       "      <td>2</td>\n",
       "      <td>1.0</td>\n",
       "      <td>1.0</td>\n",
       "      <td>42.0</td>\n",
       "      <td>0.0</td>\n",
       "      <td>0.0</td>\n",
       "      <td>24.0</td>\n",
       "      <td>1</td>\n",
       "      <td>0</td>\n",
       "      <td>20.0</td>\n",
       "    </tr>\n",
       "  </tbody>\n",
       "</table>\n",
       "</div>"
      ],
      "text/plain": [
       "      accommodates  bathrooms  bedrooms  price  cleaning_fee  \\\n",
       "id                                                             \n",
       "2015             3        1.0       1.0   60.0          30.0   \n",
       "2695             2        1.0       1.0   17.0           0.0   \n",
       "3176             4        1.0       1.0   90.0          50.0   \n",
       "3309             2        1.0       1.0   26.0          30.0   \n",
       "7071             2        1.0       1.0   42.0           0.0   \n",
       "\n",
       "      security_deposit  extra_people  guests_included  good_location  size  \n",
       "id                                                                          \n",
       "2015             200.0          28.0                1              0  75.0  \n",
       "2695               0.0           0.0                1              0  25.0  \n",
       "3176             200.0          20.0                2              0  68.0  \n",
       "3309             250.0          18.0                1              0  26.0  \n",
       "7071               0.0          24.0                1              0  20.0  "
      ]
     },
     "execution_count": 50,
     "metadata": {},
     "output_type": "execute_result"
    }
   ],
   "source": [
    "sub_df.head()"
   ]
  },
  {
   "cell_type": "code",
   "execution_count": 51,
   "metadata": {},
   "outputs": [],
   "source": [
    "train_data = sub_df[sub_df['size'].notnull()]\n",
    "test_data  = sub_df[sub_df['size'].isnull()]"
   ]
  },
  {
   "cell_type": "code",
   "execution_count": 52,
   "metadata": {},
   "outputs": [],
   "source": [
    "X_train = train_data.drop('size', axis=1)\n",
    "X_test  = test_data.drop('size', axis=1)"
   ]
  },
  {
   "cell_type": "code",
   "execution_count": 53,
   "metadata": {},
   "outputs": [],
   "source": [
    "y_train = train_data['size']"
   ]
  },
  {
   "cell_type": "code",
   "execution_count": 54,
   "metadata": {},
   "outputs": [
    {
     "data": {
      "text/plain": [
       "LinearRegression(copy_X=True, fit_intercept=True, n_jobs=None, normalize=False)"
      ]
     },
     "execution_count": 54,
     "metadata": {},
     "output_type": "execute_result"
    }
   ],
   "source": [
    "from sklearn.linear_model import LinearRegression\n",
    "lg = LinearRegression()\n",
    "lg.fit(X_train, y_train)"
   ]
  },
  {
   "cell_type": "code",
   "execution_count": 55,
   "metadata": {},
   "outputs": [],
   "source": [
    "y_test = lg.predict(X_test)"
   ]
  },
  {
   "cell_type": "code",
   "execution_count": 56,
   "metadata": {},
   "outputs": [
    {
     "name": "stdout",
     "output_type": "stream",
     "text": [
      "(11744, 1)\n"
     ]
    },
    {
     "data": {
      "text/html": [
       "<div>\n",
       "<style scoped>\n",
       "    .dataframe tbody tr th:only-of-type {\n",
       "        vertical-align: middle;\n",
       "    }\n",
       "\n",
       "    .dataframe tbody tr th {\n",
       "        vertical-align: top;\n",
       "    }\n",
       "\n",
       "    .dataframe thead th {\n",
       "        text-align: right;\n",
       "    }\n",
       "</style>\n",
       "<table border=\"1\" class=\"dataframe\">\n",
       "  <thead>\n",
       "    <tr style=\"text-align: right;\">\n",
       "      <th></th>\n",
       "      <th>size</th>\n",
       "    </tr>\n",
       "  </thead>\n",
       "  <tbody>\n",
       "    <tr>\n",
       "      <th>0</th>\n",
       "      <td>57.080688</td>\n",
       "    </tr>\n",
       "    <tr>\n",
       "      <th>1</th>\n",
       "      <td>97.388704</td>\n",
       "    </tr>\n",
       "    <tr>\n",
       "      <th>2</th>\n",
       "      <td>74.591018</td>\n",
       "    </tr>\n",
       "    <tr>\n",
       "      <th>3</th>\n",
       "      <td>87.394770</td>\n",
       "    </tr>\n",
       "    <tr>\n",
       "      <th>4</th>\n",
       "      <td>61.198663</td>\n",
       "    </tr>\n",
       "  </tbody>\n",
       "</table>\n",
       "</div>"
      ],
      "text/plain": [
       "        size\n",
       "0  57.080688\n",
       "1  97.388704\n",
       "2  74.591018\n",
       "3  87.394770\n",
       "4  61.198663"
      ]
     },
     "execution_count": 56,
     "metadata": {},
     "output_type": "execute_result"
    }
   ],
   "source": [
    "# Теперь когда у нас есть значения площади преобразуем y_test в датасет\n",
    "y_test = pd.DataFrame(y_test)\n",
    "y_test.columns = ['size']\n",
    "print(y_test.shape)\n",
    "y_test.head()"
   ]
  },
  {
   "cell_type": "code",
   "execution_count": 57,
   "metadata": {},
   "outputs": [
    {
     "name": "stdout",
     "output_type": "stream",
     "text": [
      "(11744, 9)\n"
     ]
    },
    {
     "data": {
      "text/html": [
       "<div>\n",
       "<style scoped>\n",
       "    .dataframe tbody tr th:only-of-type {\n",
       "        vertical-align: middle;\n",
       "    }\n",
       "\n",
       "    .dataframe tbody tr th {\n",
       "        vertical-align: top;\n",
       "    }\n",
       "\n",
       "    .dataframe thead th {\n",
       "        text-align: right;\n",
       "    }\n",
       "</style>\n",
       "<table border=\"1\" class=\"dataframe\">\n",
       "  <thead>\n",
       "    <tr style=\"text-align: right;\">\n",
       "      <th></th>\n",
       "      <th>accommodates</th>\n",
       "      <th>bathrooms</th>\n",
       "      <th>bedrooms</th>\n",
       "      <th>price</th>\n",
       "      <th>cleaning_fee</th>\n",
       "      <th>security_deposit</th>\n",
       "      <th>extra_people</th>\n",
       "      <th>guests_included</th>\n",
       "      <th>good_location</th>\n",
       "    </tr>\n",
       "    <tr>\n",
       "      <th>id</th>\n",
       "      <th></th>\n",
       "      <th></th>\n",
       "      <th></th>\n",
       "      <th></th>\n",
       "      <th></th>\n",
       "      <th></th>\n",
       "      <th></th>\n",
       "      <th></th>\n",
       "      <th></th>\n",
       "    </tr>\n",
       "  </thead>\n",
       "  <tbody>\n",
       "    <tr>\n",
       "      <th>14325</th>\n",
       "      <td>2</td>\n",
       "      <td>1.0</td>\n",
       "      <td>0.0</td>\n",
       "      <td>70.0</td>\n",
       "      <td>0.0</td>\n",
       "      <td>500.0</td>\n",
       "      <td>0.0</td>\n",
       "      <td>1</td>\n",
       "      <td>0</td>\n",
       "    </tr>\n",
       "    <tr>\n",
       "      <th>20858</th>\n",
       "      <td>4</td>\n",
       "      <td>1.0</td>\n",
       "      <td>2.0</td>\n",
       "      <td>129.0</td>\n",
       "      <td>49.0</td>\n",
       "      <td>500.0</td>\n",
       "      <td>24.0</td>\n",
       "      <td>2</td>\n",
       "      <td>0</td>\n",
       "    </tr>\n",
       "    <tr>\n",
       "      <th>21869</th>\n",
       "      <td>4</td>\n",
       "      <td>1.0</td>\n",
       "      <td>1.0</td>\n",
       "      <td>70.0</td>\n",
       "      <td>40.0</td>\n",
       "      <td>500.0</td>\n",
       "      <td>18.0</td>\n",
       "      <td>2</td>\n",
       "      <td>0</td>\n",
       "    </tr>\n",
       "    <tr>\n",
       "      <th>22415</th>\n",
       "      <td>4</td>\n",
       "      <td>1.0</td>\n",
       "      <td>2.0</td>\n",
       "      <td>98.0</td>\n",
       "      <td>50.0</td>\n",
       "      <td>300.0</td>\n",
       "      <td>25.0</td>\n",
       "      <td>2</td>\n",
       "      <td>0</td>\n",
       "    </tr>\n",
       "    <tr>\n",
       "      <th>28156</th>\n",
       "      <td>2</td>\n",
       "      <td>1.0</td>\n",
       "      <td>0.0</td>\n",
       "      <td>70.0</td>\n",
       "      <td>0.0</td>\n",
       "      <td>1660.0</td>\n",
       "      <td>0.0</td>\n",
       "      <td>1</td>\n",
       "      <td>0</td>\n",
       "    </tr>\n",
       "  </tbody>\n",
       "</table>\n",
       "</div>"
      ],
      "text/plain": [
       "       accommodates  bathrooms  bedrooms  price  cleaning_fee  \\\n",
       "id                                                              \n",
       "14325             2        1.0       0.0   70.0           0.0   \n",
       "20858             4        1.0       2.0  129.0          49.0   \n",
       "21869             4        1.0       1.0   70.0          40.0   \n",
       "22415             4        1.0       2.0   98.0          50.0   \n",
       "28156             2        1.0       0.0   70.0           0.0   \n",
       "\n",
       "       security_deposit  extra_people  guests_included  good_location  \n",
       "id                                                                     \n",
       "14325             500.0           0.0                1              0  \n",
       "20858             500.0          24.0                2              0  \n",
       "21869             500.0          18.0                2              0  \n",
       "22415             300.0          25.0                2              0  \n",
       "28156            1660.0           0.0                1              0  "
      ]
     },
     "execution_count": 57,
     "metadata": {},
     "output_type": "execute_result"
    }
   ],
   "source": [
    "print(X_test.shape)\n",
    "X_test.head()"
   ]
  },
  {
   "cell_type": "code",
   "execution_count": 58,
   "metadata": {},
   "outputs": [
    {
     "data": {
      "text/html": [
       "<div>\n",
       "<style scoped>\n",
       "    .dataframe tbody tr th:only-of-type {\n",
       "        vertical-align: middle;\n",
       "    }\n",
       "\n",
       "    .dataframe tbody tr th {\n",
       "        vertical-align: top;\n",
       "    }\n",
       "\n",
       "    .dataframe thead th {\n",
       "        text-align: right;\n",
       "    }\n",
       "</style>\n",
       "<table border=\"1\" class=\"dataframe\">\n",
       "  <thead>\n",
       "    <tr style=\"text-align: right;\">\n",
       "      <th></th>\n",
       "      <th>size</th>\n",
       "    </tr>\n",
       "    <tr>\n",
       "      <th>ind</th>\n",
       "      <th></th>\n",
       "    </tr>\n",
       "  </thead>\n",
       "  <tbody>\n",
       "    <tr>\n",
       "      <th>14325</th>\n",
       "      <td>57.080688</td>\n",
       "    </tr>\n",
       "    <tr>\n",
       "      <th>20858</th>\n",
       "      <td>97.388704</td>\n",
       "    </tr>\n",
       "    <tr>\n",
       "      <th>21869</th>\n",
       "      <td>74.591018</td>\n",
       "    </tr>\n",
       "    <tr>\n",
       "      <th>22415</th>\n",
       "      <td>87.394770</td>\n",
       "    </tr>\n",
       "    <tr>\n",
       "      <th>28156</th>\n",
       "      <td>61.198663</td>\n",
       "    </tr>\n",
       "  </tbody>\n",
       "</table>\n",
       "</div>"
      ],
      "text/plain": [
       "            size\n",
       "ind             \n",
       "14325  57.080688\n",
       "20858  97.388704\n",
       "21869  74.591018\n",
       "22415  87.394770\n",
       "28156  61.198663"
      ]
     },
     "execution_count": 58,
     "metadata": {},
     "output_type": "execute_result"
    }
   ],
   "source": [
    "# Чтобы объединить X_test и y_test нужно сопоставить индексы обеих частей\n",
    "ind = pd.DataFrame(X_test.index)\n",
    "ind.columns = ['ind']\n",
    "y_test = pd.concat([y_test, ind], axis=1)\n",
    "y_test.set_index(['ind'], inplace=True)\n",
    "y_test.head()"
   ]
  },
  {
   "cell_type": "code",
   "execution_count": 59,
   "metadata": {},
   "outputs": [],
   "source": [
    "new_test_data = pd.concat([X_test, y_test], axis=1)"
   ]
  },
  {
   "cell_type": "code",
   "execution_count": 60,
   "metadata": {},
   "outputs": [
    {
     "name": "stdout",
     "output_type": "stream",
     "text": [
      "(11744, 10)\n"
     ]
    },
    {
     "data": {
      "text/html": [
       "<div>\n",
       "<style scoped>\n",
       "    .dataframe tbody tr th:only-of-type {\n",
       "        vertical-align: middle;\n",
       "    }\n",
       "\n",
       "    .dataframe tbody tr th {\n",
       "        vertical-align: top;\n",
       "    }\n",
       "\n",
       "    .dataframe thead th {\n",
       "        text-align: right;\n",
       "    }\n",
       "</style>\n",
       "<table border=\"1\" class=\"dataframe\">\n",
       "  <thead>\n",
       "    <tr style=\"text-align: right;\">\n",
       "      <th></th>\n",
       "      <th>accommodates</th>\n",
       "      <th>bathrooms</th>\n",
       "      <th>bedrooms</th>\n",
       "      <th>price</th>\n",
       "      <th>cleaning_fee</th>\n",
       "      <th>security_deposit</th>\n",
       "      <th>extra_people</th>\n",
       "      <th>guests_included</th>\n",
       "      <th>good_location</th>\n",
       "      <th>size</th>\n",
       "    </tr>\n",
       "  </thead>\n",
       "  <tbody>\n",
       "    <tr>\n",
       "      <th>14325</th>\n",
       "      <td>2</td>\n",
       "      <td>1.0</td>\n",
       "      <td>0.0</td>\n",
       "      <td>70.0</td>\n",
       "      <td>0.0</td>\n",
       "      <td>500.0</td>\n",
       "      <td>0.0</td>\n",
       "      <td>1</td>\n",
       "      <td>0</td>\n",
       "      <td>57.080688</td>\n",
       "    </tr>\n",
       "    <tr>\n",
       "      <th>20858</th>\n",
       "      <td>4</td>\n",
       "      <td>1.0</td>\n",
       "      <td>2.0</td>\n",
       "      <td>129.0</td>\n",
       "      <td>49.0</td>\n",
       "      <td>500.0</td>\n",
       "      <td>24.0</td>\n",
       "      <td>2</td>\n",
       "      <td>0</td>\n",
       "      <td>97.388704</td>\n",
       "    </tr>\n",
       "    <tr>\n",
       "      <th>21869</th>\n",
       "      <td>4</td>\n",
       "      <td>1.0</td>\n",
       "      <td>1.0</td>\n",
       "      <td>70.0</td>\n",
       "      <td>40.0</td>\n",
       "      <td>500.0</td>\n",
       "      <td>18.0</td>\n",
       "      <td>2</td>\n",
       "      <td>0</td>\n",
       "      <td>74.591018</td>\n",
       "    </tr>\n",
       "    <tr>\n",
       "      <th>22415</th>\n",
       "      <td>4</td>\n",
       "      <td>1.0</td>\n",
       "      <td>2.0</td>\n",
       "      <td>98.0</td>\n",
       "      <td>50.0</td>\n",
       "      <td>300.0</td>\n",
       "      <td>25.0</td>\n",
       "      <td>2</td>\n",
       "      <td>0</td>\n",
       "      <td>87.394770</td>\n",
       "    </tr>\n",
       "    <tr>\n",
       "      <th>28156</th>\n",
       "      <td>2</td>\n",
       "      <td>1.0</td>\n",
       "      <td>0.0</td>\n",
       "      <td>70.0</td>\n",
       "      <td>0.0</td>\n",
       "      <td>1660.0</td>\n",
       "      <td>0.0</td>\n",
       "      <td>1</td>\n",
       "      <td>0</td>\n",
       "      <td>61.198663</td>\n",
       "    </tr>\n",
       "    <tr>\n",
       "      <th>31440</th>\n",
       "      <td>1</td>\n",
       "      <td>1.0</td>\n",
       "      <td>1.0</td>\n",
       "      <td>44.0</td>\n",
       "      <td>15.0</td>\n",
       "      <td>100.0</td>\n",
       "      <td>15.0</td>\n",
       "      <td>1</td>\n",
       "      <td>0</td>\n",
       "      <td>54.376603</td>\n",
       "    </tr>\n",
       "    <tr>\n",
       "      <th>38296</th>\n",
       "      <td>2</td>\n",
       "      <td>1.0</td>\n",
       "      <td>1.0</td>\n",
       "      <td>80.0</td>\n",
       "      <td>35.0</td>\n",
       "      <td>500.0</td>\n",
       "      <td>0.0</td>\n",
       "      <td>2</td>\n",
       "      <td>0</td>\n",
       "      <td>64.519666</td>\n",
       "    </tr>\n",
       "    <tr>\n",
       "      <th>41217</th>\n",
       "      <td>2</td>\n",
       "      <td>1.0</td>\n",
       "      <td>1.0</td>\n",
       "      <td>43.0</td>\n",
       "      <td>0.0</td>\n",
       "      <td>0.0</td>\n",
       "      <td>13.0</td>\n",
       "      <td>1</td>\n",
       "      <td>0</td>\n",
       "      <td>52.712908</td>\n",
       "    </tr>\n",
       "    <tr>\n",
       "      <th>41306</th>\n",
       "      <td>2</td>\n",
       "      <td>1.0</td>\n",
       "      <td>1.0</td>\n",
       "      <td>40.0</td>\n",
       "      <td>0.0</td>\n",
       "      <td>0.0</td>\n",
       "      <td>0.0</td>\n",
       "      <td>1</td>\n",
       "      <td>0</td>\n",
       "      <td>45.614047</td>\n",
       "    </tr>\n",
       "    <tr>\n",
       "      <th>43123</th>\n",
       "      <td>4</td>\n",
       "      <td>1.0</td>\n",
       "      <td>1.0</td>\n",
       "      <td>90.0</td>\n",
       "      <td>50.0</td>\n",
       "      <td>300.0</td>\n",
       "      <td>20.0</td>\n",
       "      <td>2</td>\n",
       "      <td>0</td>\n",
       "      <td>82.595159</td>\n",
       "    </tr>\n",
       "  </tbody>\n",
       "</table>\n",
       "</div>"
      ],
      "text/plain": [
       "       accommodates  bathrooms  bedrooms  price  cleaning_fee  \\\n",
       "14325             2        1.0       0.0   70.0           0.0   \n",
       "20858             4        1.0       2.0  129.0          49.0   \n",
       "21869             4        1.0       1.0   70.0          40.0   \n",
       "22415             4        1.0       2.0   98.0          50.0   \n",
       "28156             2        1.0       0.0   70.0           0.0   \n",
       "31440             1        1.0       1.0   44.0          15.0   \n",
       "38296             2        1.0       1.0   80.0          35.0   \n",
       "41217             2        1.0       1.0   43.0           0.0   \n",
       "41306             2        1.0       1.0   40.0           0.0   \n",
       "43123             4        1.0       1.0   90.0          50.0   \n",
       "\n",
       "       security_deposit  extra_people  guests_included  good_location  \\\n",
       "14325             500.0           0.0                1              0   \n",
       "20858             500.0          24.0                2              0   \n",
       "21869             500.0          18.0                2              0   \n",
       "22415             300.0          25.0                2              0   \n",
       "28156            1660.0           0.0                1              0   \n",
       "31440             100.0          15.0                1              0   \n",
       "38296             500.0           0.0                2              0   \n",
       "41217               0.0          13.0                1              0   \n",
       "41306               0.0           0.0                1              0   \n",
       "43123             300.0          20.0                2              0   \n",
       "\n",
       "            size  \n",
       "14325  57.080688  \n",
       "20858  97.388704  \n",
       "21869  74.591018  \n",
       "22415  87.394770  \n",
       "28156  61.198663  \n",
       "31440  54.376603  \n",
       "38296  64.519666  \n",
       "41217  52.712908  \n",
       "41306  45.614047  \n",
       "43123  82.595159  "
      ]
     },
     "execution_count": 60,
     "metadata": {},
     "output_type": "execute_result"
    }
   ],
   "source": [
    "print(new_test_data.shape)\n",
    "new_test_data.head(10)"
   ]
  },
  {
   "cell_type": "code",
   "execution_count": 61,
   "metadata": {},
   "outputs": [
    {
     "data": {
      "text/plain": [
       "0"
      ]
     },
     "execution_count": 61,
     "metadata": {},
     "output_type": "execute_result"
    }
   ],
   "source": [
    "new_test_data['size'].isna().sum()"
   ]
  },
  {
   "cell_type": "code",
   "execution_count": 62,
   "metadata": {},
   "outputs": [],
   "source": [
    "sub_df_new = pd.concat([new_test_data, train_data], axis=0)"
   ]
  },
  {
   "cell_type": "code",
   "execution_count": 63,
   "metadata": {},
   "outputs": [
    {
     "name": "stdout",
     "output_type": "stream",
     "text": [
      "(22441, 10)\n"
     ]
    },
    {
     "data": {
      "text/html": [
       "<div>\n",
       "<style scoped>\n",
       "    .dataframe tbody tr th:only-of-type {\n",
       "        vertical-align: middle;\n",
       "    }\n",
       "\n",
       "    .dataframe tbody tr th {\n",
       "        vertical-align: top;\n",
       "    }\n",
       "\n",
       "    .dataframe thead th {\n",
       "        text-align: right;\n",
       "    }\n",
       "</style>\n",
       "<table border=\"1\" class=\"dataframe\">\n",
       "  <thead>\n",
       "    <tr style=\"text-align: right;\">\n",
       "      <th></th>\n",
       "      <th>accommodates</th>\n",
       "      <th>bathrooms</th>\n",
       "      <th>bedrooms</th>\n",
       "      <th>price</th>\n",
       "      <th>cleaning_fee</th>\n",
       "      <th>security_deposit</th>\n",
       "      <th>extra_people</th>\n",
       "      <th>guests_included</th>\n",
       "      <th>good_location</th>\n",
       "      <th>size</th>\n",
       "    </tr>\n",
       "  </thead>\n",
       "  <tbody>\n",
       "    <tr>\n",
       "      <th>14325</th>\n",
       "      <td>2</td>\n",
       "      <td>1.0</td>\n",
       "      <td>0.0</td>\n",
       "      <td>70.0</td>\n",
       "      <td>0.0</td>\n",
       "      <td>500.0</td>\n",
       "      <td>0.0</td>\n",
       "      <td>1</td>\n",
       "      <td>0</td>\n",
       "      <td>57.080688</td>\n",
       "    </tr>\n",
       "    <tr>\n",
       "      <th>20858</th>\n",
       "      <td>4</td>\n",
       "      <td>1.0</td>\n",
       "      <td>2.0</td>\n",
       "      <td>129.0</td>\n",
       "      <td>49.0</td>\n",
       "      <td>500.0</td>\n",
       "      <td>24.0</td>\n",
       "      <td>2</td>\n",
       "      <td>0</td>\n",
       "      <td>97.388704</td>\n",
       "    </tr>\n",
       "    <tr>\n",
       "      <th>21869</th>\n",
       "      <td>4</td>\n",
       "      <td>1.0</td>\n",
       "      <td>1.0</td>\n",
       "      <td>70.0</td>\n",
       "      <td>40.0</td>\n",
       "      <td>500.0</td>\n",
       "      <td>18.0</td>\n",
       "      <td>2</td>\n",
       "      <td>0</td>\n",
       "      <td>74.591018</td>\n",
       "    </tr>\n",
       "    <tr>\n",
       "      <th>22415</th>\n",
       "      <td>4</td>\n",
       "      <td>1.0</td>\n",
       "      <td>2.0</td>\n",
       "      <td>98.0</td>\n",
       "      <td>50.0</td>\n",
       "      <td>300.0</td>\n",
       "      <td>25.0</td>\n",
       "      <td>2</td>\n",
       "      <td>0</td>\n",
       "      <td>87.394770</td>\n",
       "    </tr>\n",
       "    <tr>\n",
       "      <th>28156</th>\n",
       "      <td>2</td>\n",
       "      <td>1.0</td>\n",
       "      <td>0.0</td>\n",
       "      <td>70.0</td>\n",
       "      <td>0.0</td>\n",
       "      <td>1660.0</td>\n",
       "      <td>0.0</td>\n",
       "      <td>1</td>\n",
       "      <td>0</td>\n",
       "      <td>61.198663</td>\n",
       "    </tr>\n",
       "  </tbody>\n",
       "</table>\n",
       "</div>"
      ],
      "text/plain": [
       "       accommodates  bathrooms  bedrooms  price  cleaning_fee  \\\n",
       "14325             2        1.0       0.0   70.0           0.0   \n",
       "20858             4        1.0       2.0  129.0          49.0   \n",
       "21869             4        1.0       1.0   70.0          40.0   \n",
       "22415             4        1.0       2.0   98.0          50.0   \n",
       "28156             2        1.0       0.0   70.0           0.0   \n",
       "\n",
       "       security_deposit  extra_people  guests_included  good_location  \\\n",
       "14325             500.0           0.0                1              0   \n",
       "20858             500.0          24.0                2              0   \n",
       "21869             500.0          18.0                2              0   \n",
       "22415             300.0          25.0                2              0   \n",
       "28156            1660.0           0.0                1              0   \n",
       "\n",
       "            size  \n",
       "14325  57.080688  \n",
       "20858  97.388704  \n",
       "21869  74.591018  \n",
       "22415  87.394770  \n",
       "28156  61.198663  "
      ]
     },
     "execution_count": 63,
     "metadata": {},
     "output_type": "execute_result"
    }
   ],
   "source": [
    "print(sub_df_new.shape)\n",
    "sub_df_new.head()"
   ]
  },
  {
   "cell_type": "code",
   "execution_count": 64,
   "metadata": {},
   "outputs": [
    {
     "name": "stderr",
     "output_type": "stream",
     "text": [
      "/Users/olgakhamtsova/anaconda3/lib/python3.7/site-packages/pandas/core/frame.py:3997: SettingWithCopyWarning: \n",
      "A value is trying to be set on a copy of a slice from a DataFrame\n",
      "\n",
      "See the caveats in the documentation: https://pandas.pydata.org/pandas-docs/stable/user_guide/indexing.html#returning-a-view-versus-a-copy\n",
      "  errors=errors,\n"
     ]
    }
   ],
   "source": [
    "df_raw.drop(['accommodates', 'bathrooms', 'bedrooms',  'price', 'cleaning_fee', \n",
    "                 'security_deposit', 'extra_people', 'guests_included', 'good_location', 'size'], \n",
    "            axis=1, inplace=True)"
   ]
  },
  {
   "cell_type": "code",
   "execution_count": 65,
   "metadata": {},
   "outputs": [
    {
     "name": "stdout",
     "output_type": "stream",
     "text": [
      "(22441, 32)\n"
     ]
    },
    {
     "data": {
      "text/html": [
       "<div>\n",
       "<style scoped>\n",
       "    .dataframe tbody tr th:only-of-type {\n",
       "        vertical-align: middle;\n",
       "    }\n",
       "\n",
       "    .dataframe tbody tr th {\n",
       "        vertical-align: top;\n",
       "    }\n",
       "\n",
       "    .dataframe thead th {\n",
       "        text-align: right;\n",
       "    }\n",
       "</style>\n",
       "<table border=\"1\" class=\"dataframe\">\n",
       "  <thead>\n",
       "    <tr style=\"text-align: right;\">\n",
       "      <th></th>\n",
       "      <th>accommodates</th>\n",
       "      <th>bathrooms</th>\n",
       "      <th>bedrooms</th>\n",
       "      <th>price</th>\n",
       "      <th>cleaning_fee</th>\n",
       "      <th>security_deposit</th>\n",
       "      <th>extra_people</th>\n",
       "      <th>guests_included</th>\n",
       "      <th>good_location</th>\n",
       "      <th>size</th>\n",
       "      <th>...</th>\n",
       "      <th>is_business_travel_ready</th>\n",
       "      <th>host_is_superhost</th>\n",
       "      <th>latitude</th>\n",
       "      <th>longitude</th>\n",
       "      <th>is_entire_apt</th>\n",
       "      <th>hair_dryer</th>\n",
       "      <th>lap_friendly</th>\n",
       "      <th>Washer</th>\n",
       "      <th>minimum_nights_more_1</th>\n",
       "      <th>cancellation_not_flexible</th>\n",
       "    </tr>\n",
       "  </thead>\n",
       "  <tbody>\n",
       "    <tr>\n",
       "      <th>2015</th>\n",
       "      <td>3</td>\n",
       "      <td>1.0</td>\n",
       "      <td>1.0</td>\n",
       "      <td>60.0</td>\n",
       "      <td>30.0</td>\n",
       "      <td>200.0</td>\n",
       "      <td>28.0</td>\n",
       "      <td>1</td>\n",
       "      <td>0</td>\n",
       "      <td>75.0</td>\n",
       "      <td>...</td>\n",
       "      <td>f</td>\n",
       "      <td>1</td>\n",
       "      <td>52.534537</td>\n",
       "      <td>13.402557</td>\n",
       "      <td>1</td>\n",
       "      <td>0</td>\n",
       "      <td>0</td>\n",
       "      <td>0</td>\n",
       "      <td>0</td>\n",
       "      <td>1</td>\n",
       "    </tr>\n",
       "    <tr>\n",
       "      <th>2695</th>\n",
       "      <td>2</td>\n",
       "      <td>1.0</td>\n",
       "      <td>1.0</td>\n",
       "      <td>17.0</td>\n",
       "      <td>0.0</td>\n",
       "      <td>0.0</td>\n",
       "      <td>0.0</td>\n",
       "      <td>1</td>\n",
       "      <td>0</td>\n",
       "      <td>25.0</td>\n",
       "      <td>...</td>\n",
       "      <td>f</td>\n",
       "      <td>0</td>\n",
       "      <td>52.548513</td>\n",
       "      <td>13.404553</td>\n",
       "      <td>0</td>\n",
       "      <td>0</td>\n",
       "      <td>0</td>\n",
       "      <td>1</td>\n",
       "      <td>0</td>\n",
       "      <td>0</td>\n",
       "    </tr>\n",
       "  </tbody>\n",
       "</table>\n",
       "<p>2 rows × 32 columns</p>\n",
       "</div>"
      ],
      "text/plain": [
       "      accommodates  bathrooms  bedrooms  price  cleaning_fee  \\\n",
       "2015             3        1.0       1.0   60.0          30.0   \n",
       "2695             2        1.0       1.0   17.0           0.0   \n",
       "\n",
       "      security_deposit  extra_people  guests_included  good_location  size  \\\n",
       "2015             200.0          28.0                1              0  75.0   \n",
       "2695               0.0           0.0                1              0  25.0   \n",
       "\n",
       "      ... is_business_travel_ready host_is_superhost   latitude  longitude  \\\n",
       "2015  ...                        f                 1  52.534537  13.402557   \n",
       "2695  ...                        f                 0  52.548513  13.404553   \n",
       "\n",
       "     is_entire_apt hair_dryer lap_friendly  Washer  minimum_nights_more_1  \\\n",
       "2015             1          0            0       0                      0   \n",
       "2695             0          0            0       1                      0   \n",
       "\n",
       "      cancellation_not_flexible  \n",
       "2015                          1  \n",
       "2695                          0  \n",
       "\n",
       "[2 rows x 32 columns]"
      ]
     },
     "execution_count": 65,
     "metadata": {},
     "output_type": "execute_result"
    }
   ],
   "source": [
    "df = pd.concat([sub_df_new, df_raw], axis=1)\n",
    "\n",
    "print(df.shape)\n",
    "df.head(2)"
   ]
  },
  {
   "cell_type": "code",
   "execution_count": 66,
   "metadata": {},
   "outputs": [
    {
     "data": {
      "text/plain": [
       "count    22441.000000\n",
       "mean        60.123550\n",
       "std         80.870854\n",
       "min          0.000000\n",
       "25%         25.000000\n",
       "50%         49.087384\n",
       "75%         65.000000\n",
       "max        980.000000\n",
       "Name: size, dtype: float64"
      ]
     },
     "execution_count": 66,
     "metadata": {},
     "output_type": "execute_result"
    }
   ],
   "source": [
    "df['size'].describe()"
   ]
  },
  {
   "cell_type": "code",
   "execution_count": 67,
   "metadata": {},
   "outputs": [
    {
     "name": "stdout",
     "output_type": "stream",
     "text": [
      "300.0\n"
     ]
    }
   ],
   "source": [
    "print(format(np.percentile(df[\"size\"], 98.5)))"
   ]
  },
  {
   "cell_type": "code",
   "execution_count": 68,
   "metadata": {},
   "outputs": [],
   "source": [
    "# 98,5% данных ограничиваются площадью 300 кв м. Все что больше 300 кв м, а так же  нулевые значения считаем выбросами. \n",
    "df.drop(df[ (df['size'] == 0.) | (df['size'] > 300.) ].index, axis=0, inplace=True)"
   ]
  },
  {
   "cell_type": "code",
   "execution_count": 69,
   "metadata": {},
   "outputs": [],
   "source": [
    "selected.append(\"size\")"
   ]
  },
  {
   "cell_type": "code",
   "execution_count": 70,
   "metadata": {},
   "outputs": [
    {
     "name": "stdout",
     "output_type": "stream",
     "text": [
      "<class 'pandas.core.frame.DataFrame'>\n",
      "Int64Index: 22008 entries, 2015 to 29867352\n",
      "Data columns (total 13 columns):\n",
      " #   Column                     Non-Null Count  Dtype  \n",
      "---  ------                     --------------  -----  \n",
      " 0   is_entire_apt              22008 non-null  int64  \n",
      " 1   hair_dryer                 22008 non-null  int64  \n",
      " 2   lap_friendly               22008 non-null  int64  \n",
      " 3   Washer                     22008 non-null  int64  \n",
      " 4   minimum_nights_more_1      22008 non-null  int64  \n",
      " 5   cleaning_fee               22008 non-null  float64\n",
      " 6   accommodates               22008 non-null  int64  \n",
      " 7   host_is_superhost          22008 non-null  int64  \n",
      " 8   host_identity_verified     22008 non-null  int64  \n",
      " 9   instant_bookable           22008 non-null  int64  \n",
      " 10  cancellation_not_flexible  22008 non-null  int64  \n",
      " 11  good_location              22008 non-null  int64  \n",
      " 12  size                       22008 non-null  float64\n",
      "dtypes: float64(2), int64(11)\n",
      "memory usage: 2.4 MB\n"
     ]
    }
   ],
   "source": [
    "df[selected].info()"
   ]
  },
  {
   "cell_type": "code",
   "execution_count": 71,
   "metadata": {},
   "outputs": [],
   "source": [
    "from sklearn.preprocessing import StandardScaler\n",
    "sc = StandardScaler()\n",
    "scaledFeatures = sc.fit_transform(df[selected])"
   ]
  },
  {
   "cell_type": "code",
   "execution_count": 72,
   "metadata": {},
   "outputs": [],
   "source": [
    "import xgboost as xgb"
   ]
  },
  {
   "cell_type": "code",
   "execution_count": 73,
   "metadata": {},
   "outputs": [],
   "source": [
    "from xgboost import plot_importance\n",
    "from matplotlib import pyplot as plt\n",
    "from sklearn.model_selection import train_test_split\n",
    "from sklearn.model_selection import GridSearchCV\n",
    "from sklearn.metrics import r2_score, mean_squared_error"
   ]
  },
  {
   "cell_type": "code",
   "execution_count": 74,
   "metadata": {},
   "outputs": [],
   "source": [
    "X = scaledFeatures\n",
    "y = df[\"price\"]\n",
    "X_train, X_test, y_train, y_test = train_test_split(X, y, test_size=0.2, random_state=42)"
   ]
  },
  {
   "cell_type": "code",
   "execution_count": 75,
   "metadata": {},
   "outputs": [
    {
     "name": "stdout",
     "output_type": "stream",
     "text": [
      "[11:25:07] WARNING: src/objective/regression_obj.cu:152: reg:linear is now deprecated in favor of reg:squarederror.\n",
      "{'max_depth': 7, 'n_estimators': 100}\n"
     ]
    }
   ],
   "source": [
    "xgb_clf = xgb.XGBRegressor()\n",
    "parameters = {'n_estimators': [120, 100, 140], 'max_depth':[3,5,7,9]}\n",
    "grid_search = GridSearchCV(estimator=xgb_clf, param_grid=parameters, cv=5, n_jobs=-1)\n",
    "grid_search.fit(X_train, y_train)\n",
    "print(grid_search.best_params_)"
   ]
  },
  {
   "cell_type": "code",
   "execution_count": 76,
   "metadata": {},
   "outputs": [
    {
     "name": "stdout",
     "output_type": "stream",
     "text": [
      "[11:26:18] WARNING: src/objective/regression_obj.cu:152: reg:linear is now deprecated in favor of reg:squarederror.\n",
      "R^2 score:  0.6536\n",
      "RMSE:  24.0006\n"
     ]
    }
   ],
   "source": [
    "xgb_clf = xgb.XGBRegressor(n_estimators=100, max_depth=7)\n",
    "xgb_clf.fit(X_train, y_train)\n",
    "y_test_pred = xgb_clf.predict(X_test)\n",
    "print(\"R^2 score: {0: .4f}\".format(r2_score(y_test, y_test_pred)))\n",
    "print(\"RMSE: {0: .4f}\".format(np.sqrt(mean_squared_error(y_test, y_test_pred))))"
   ]
  },
  {
   "cell_type": "code",
   "execution_count": 77,
   "metadata": {},
   "outputs": [
    {
     "name": "stdout",
     "output_type": "stream",
     "text": [
      "0.5665965733750788\n",
      "{'max_depth': 9, 'min_samples_leaf': 20, 'min_weight_fraction_leaf': 0.0, 'random_state': 1}\n"
     ]
    }
   ],
   "source": [
    "from sklearn.tree import DecisionTreeRegressor\n",
    "regressor = DecisionTreeRegressor()\n",
    "from sklearn.model_selection import GridSearchCV\n",
    "param_grid = [{'max_depth': np.arange(1, 10),\n",
    "              'min_samples_leaf': [1, 5, 10, 20, 50, 100],\n",
    "              'min_weight_fraction_leaf': [0.0,0.1,0.3,0.5],\n",
    "              'random_state':[1,3,4,7]}]\n",
    "gridCV = GridSearchCV(estimator=regressor, param_grid=param_grid,cv=10)\n",
    "gridCV = gridCV.fit(X_train, y_train)\n",
    "print(gridCV.best_score_)\n",
    "print(gridCV.best_params_)"
   ]
  },
  {
   "cell_type": "code",
   "execution_count": 78,
   "metadata": {},
   "outputs": [],
   "source": [
    "md = gridCV.best_params_[\"max_depth\"]\n",
    "msl  = gridCV.best_params_[\"min_samples_leaf\"]\n",
    "mwfl = gridCV.best_params_[\"min_weight_fraction_leaf\"]\n",
    "rs = gridCV.best_params_[\"random_state\"]"
   ]
  },
  {
   "cell_type": "code",
   "execution_count": 79,
   "metadata": {},
   "outputs": [],
   "source": [
    "regressor = DecisionTreeRegressor(max_depth=md,min_samples_leaf=msl,min_weight_fraction_leaf=mwfl,random_state=rs)\n",
    "regressor.fit(X_train, y_train)\n",
    "y_pred = regressor.predict(X_test)"
   ]
  },
  {
   "cell_type": "code",
   "execution_count": 80,
   "metadata": {},
   "outputs": [
    {
     "name": "stdout",
     "output_type": "stream",
     "text": [
      "RMSE: 25.8744\n"
     ]
    }
   ],
   "source": [
    "from sklearn.metrics import mean_squared_error, r2_score\n",
    "RMSE = np.sqrt(mean_squared_error(y_test, y_pred))\n",
    "print(f\"RMSE: {round(RMSE, 4)}\")"
   ]
  },
  {
   "cell_type": "code",
   "execution_count": 81,
   "metadata": {},
   "outputs": [
    {
     "name": "stdout",
     "output_type": "stream",
     "text": [
      "r2: 0.5973\n"
     ]
    }
   ],
   "source": [
    "r2 = r2_score(y_test, y_pred)\n",
    "print(f\"r2: {round(r2, 4)}\")"
   ]
  },
  {
   "cell_type": "code",
   "execution_count": 82,
   "metadata": {},
   "outputs": [
    {
     "data": {
      "text/plain": [
       "(22008, 32)"
      ]
     },
     "execution_count": 82,
     "metadata": {},
     "output_type": "execute_result"
    }
   ],
   "source": [
    "df.shape"
   ]
  },
  {
   "cell_type": "code",
   "execution_count": null,
   "metadata": {},
   "outputs": [],
   "source": []
  }
 ],
 "metadata": {
  "kernelspec": {
   "display_name": "Python 3",
   "language": "python",
   "name": "python3"
  },
  "language_info": {
   "codemirror_mode": {
    "name": "ipython",
    "version": 3
   },
   "file_extension": ".py",
   "mimetype": "text/x-python",
   "name": "python",
   "nbconvert_exporter": "python",
   "pygments_lexer": "ipython3",
   "version": "3.7.3"
  }
 },
 "nbformat": 4,
 "nbformat_minor": 4
}
